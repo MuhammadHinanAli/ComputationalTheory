{
 "cells": [
  {
   "cell_type": "markdown",
   "metadata": {},
   "source": [
    "# Task 1: Binary Representation"
   ]
  },
  {
   "cell_type": "markdown",
   "metadata": {},
   "source": [
    "Description of the rotl Function"
   ]
  },
  {
   "cell_type": "code",
   "execution_count": null,
   "metadata": {},
   "outputs": [],
   "source": [
    "def rotl(x, n=1):\n",
    "    \n",
    "    # Ensure x is treated as a 32-bit unsigned integer\n",
    "    x &= 0xffffffff\n",
    "\n",
    "    # Use modulo 32 to handle cases where n > 32\n",
    "    n %= 32\n",
    "\n",
    "    # Perform the rotation by shifting left and right\n",
    "    # Reference: https://www.geeksforgeeks.org/python3-program-to-rotate-bits-of-a-number/?utm_source=chatgpt.com\n",
    "    return ((x << n) | (x >> (32 - n))) & 0xFFFFFFFF  # Masking to ensure 32-bit unsigned integer result"
   ]
  },
  {
   "cell_type": "markdown",
   "metadata": {},
   "source": [
    "Description of Test Cases for rotl(x, n=1)"
   ]
  },
  {
   "cell_type": "code",
   "execution_count": 30,
   "metadata": {},
   "outputs": [
    {
     "name": "stdout",
     "output_type": "stream",
     "text": [
      "Testing rotl(x, n=1) function:\n",
      "\n",
      "\tTest Case 1: rotl(0x12345678, 4) = 0x23456781\n",
      "\tTest Case 2: rotl(0x12345678, 0) = 0x12345678\n",
      "\tTest Case 3: rotl(0x12345678, 32) = 0x12345678\n",
      "\tTest Case 4: rotl(0x12345678, 36) = 0x23456781\n"
     ]
    }
   ],
   "source": [
    "# Test cases for rotl(x, n=1)\n",
    "if __name__ == '__main__':\n",
    "\n",
    "    print(\"Testing rotl(x, n=1) function:\\n\")\n",
    "\n",
    "    # Test 1: Rotate a typical 32-bit integer\n",
    "    x = 0x12345678\n",
    "    result = rotl(x, 4)\n",
    "    print(f\"\\tTest Case 1: rotl(0x{x:08x}, 4) = 0x{result:08x}\")\n",
    "\n",
    "    # Test 2: Rotation by 0 positions should return the same number\n",
    "    result = rotl(x, 0)\n",
    "    print(f\"\\tTest Case 2: rotl(0x{x:08x}, 0) = 0x{result:08x}\")\n",
    "\n",
    "    # Test 3: Rotation by 32 positions should return the same number\n",
    "    result = rotl(x, 32)\n",
    "    print(f\"\\tTest Case 3: rotl(0x{x:08x}, 32) = 0x{result:08x}\")\n",
    "\n",
    "    # Test 4: Rotation by a value greater than 32 (e.g., 36) is handled modulo 32\n",
    "    result = rotl(x, 36)\n",
    "    print(f\"\\tTest Case 4: rotl(0x{x:08x}, 36) = 0x{result:08x}\")"
   ]
  },
  {
   "cell_type": "markdown",
   "metadata": {},
   "source": [
    "Description of the rotr Function"
   ]
  },
  {
   "cell_type": "code",
   "execution_count": null,
   "metadata": {},
   "outputs": [],
   "source": [
    "def rotr(x, n=1):\n",
    "\n",
    "    # Ensure x is treated as a 32-bit unsigned integer\n",
    "    x &= 0xffffffff\n",
    "\n",
    "    # Use modulo 32 to handle cases where n > 32\n",
    "    n %= 32\n",
    "\n",
    "    # Perform the rotation by shifting right and left\n",
    "    return ((x >> n) | (x << (32 - n))) & 0xFFFFFFFF  # Masking to ensure 32-bit unsigned integer result"
   ]
  },
  {
   "cell_type": "markdown",
   "metadata": {},
   "source": [
    "Description of Test Cases for rotr(x, n=1)"
   ]
  },
  {
   "cell_type": "code",
   "execution_count": 32,
   "metadata": {},
   "outputs": [
    {
     "name": "stdout",
     "output_type": "stream",
     "text": [
      "Testing rotr(x, n=1) function:\n",
      "\n",
      "\tTest Case 1: rotr(0x12345678, 4) = 0x81234567\n",
      "\tTest Case 2: rotr(0x12345678, 0) = 0x12345678\n",
      "\tTest Case 3: rotr(0x12345678, 32) = 0x12345678\n",
      "\tTest Case 4: rotr(0x12345678, 36) = 0x81234567\n"
     ]
    }
   ],
   "source": [
    "# Test cases for rotr(x, n=1)\n",
    "if __name__ == '__main__':\n",
    "\n",
    "    print(\"Testing rotr(x, n=1) function:\\n\")\n",
    "\n",
    "    # Test 1: Rotate a typical 32-bit integer\n",
    "    x = 0x12345678\n",
    "    result = rotr(x, 4)\n",
    "    print(f\"\\tTest Case 1: rotr(0x{x:08x}, 4) = 0x{result:08x}\")\n",
    "\n",
    "    # Test 2: Rotation by 0 positions should return the same number\n",
    "    result = rotr(x, 0)\n",
    "    print(f\"\\tTest Case 2: rotr(0x{x:08x}, 0) = 0x{result:08x}\")\n",
    "\n",
    "    # Test 3: Rotation by 32 positions should return the same number\n",
    "    result = rotr(x, 32)\n",
    "    print(f\"\\tTest Case 3: rotr(0x{x:08x}, 32) = 0x{result:08x}\")\n",
    "\n",
    "    # Test 4: Rotation by a value greater than 32 (e.g., 36) is handled modulo 32\n",
    "    result = rotr(x, 36)\n",
    "    print(f\"\\tTest Case 4: rotr(0x{x:08x}, 36) = 0x{result:08x}\")"
   ]
  },
  {
   "cell_type": "markdown",
   "metadata": {},
   "source": [
    "Description of the ch Function"
   ]
  },
  {
   "cell_type": "code",
   "execution_count": null,
   "metadata": {},
   "outputs": [],
   "source": [
    "def ch(x, y, z):\n",
    "\n",
    "    # Ensure x, y, z are treated as 32-bit unsigned integers\n",
    "    x &= 0xffffffff\n",
    "    y &= 0xffffffff\n",
    "    z &= 0xffffffff\n",
    "\n",
    "    # Use bitwise operations to select bits\n",
    "    return ((x & y) | (~x & z)) & 0xFFFFFFFF  # Masking to ensure 32-bit unsigned integer result"
   ]
  },
  {
   "cell_type": "markdown",
   "metadata": {},
   "source": [
    "Description of Test Cases for ch(x, y, z)"
   ]
  },
  {
   "cell_type": "code",
   "execution_count": 34,
   "metadata": {},
   "outputs": [
    {
     "name": "stdout",
     "output_type": "stream",
     "text": [
      "Testing ch(x, y, z) function:\n",
      "\n",
      "\tTest Case 1: ch(0b1101, 0b1111, 0b0000) = 0b1101\n",
      "\tTest Case 2: ch(0b1111, 0b1100, 0b1010) = 0b1100\n",
      "\tTest Case 3: ch(0b0000, 0b1111, 0b1010) = 0b1010\n",
      "\tTest Case 4: ch(0b1010, 0b1100, 0b0110) = 0b1100\n"
     ]
    }
   ],
   "source": [
    "# Test cases for ch(x, y, z)\n",
    "if __name__ == '__main__':\n",
    "    print(\"Testing ch(x, y, z) function:\\n\")\n",
    "\n",
    "    # Test 1: Typical case where bits from y and z are selected based on x\n",
    "    x = 0b1101\n",
    "    y = 0b1111\n",
    "    z = 0b0000\n",
    "    result = ch(x, y, z)\n",
    "    print(f\"\\tTest Case 1: ch(0b{x:04b}, 0b{y:04b}, 0b{z:04b}) = 0b{result:04b}\")\n",
    "\n",
    "    # Test 2: x is all 1's, so all bits are chosen from y\n",
    "    x = 0b1111\n",
    "    y = 0b1100\n",
    "    z = 0b1010\n",
    "    result = ch(x, y, z)\n",
    "    print(f\"\\tTest Case 2: ch(0b{x:04b}, 0b{y:04b}, 0b{z:04b}) = 0b{result:04b}\")\n",
    "\n",
    "    # Test 3: x is all 0's, so all bits are chosen from z\n",
    "    x = 0b0000\n",
    "    y = 0b1111\n",
    "    z = 0b1010\n",
    "    result = ch(x, y, z)\n",
    "    print(f\"\\tTest Case 3: ch(0b{x:04b}, 0b{y:04b}, 0b{z:04b}) = 0b{result:04b}\")\n",
    "\n",
    "     # Test 4: Rotation where x has random bits set\n",
    "    x = 0b1010\n",
    "    y = 0b1100\n",
    "    z = 0b0110\n",
    "    result = ch(x, y, z)\n",
    "    print(f\"\\tTest Case 4: ch(0b{x:04b}, 0b{y:04b}, 0b{z:04b}) = 0b{result:04b}\")"
   ]
  },
  {
   "cell_type": "markdown",
   "metadata": {},
   "source": [
    "Description of the maj Function"
   ]
  },
  {
   "cell_type": "code",
   "execution_count": null,
   "metadata": {},
   "outputs": [],
   "source": [
    "def maj(x, y, z):\n",
    "\n",
    "    # Ensure x, y, and z are treated as 32-bit unsigned integers\n",
    "    x &= 0xffffffff\n",
    "    y &= 0xffffffff\n",
    "    z &= 0xffffffff\n",
    "\n",
    "    # Majority function using bitwise operations\n",
    "    return ((x & y) | (x & z) | (y & z)) & 0xFFFFFFFF"
   ]
  },
  {
   "cell_type": "markdown",
   "metadata": {},
   "source": [
    "Description of Test Cases for maj(x, y, z)"
   ]
  },
  {
   "cell_type": "code",
   "execution_count": 36,
   "metadata": {},
   "outputs": [
    {
     "name": "stdout",
     "output_type": "stream",
     "text": [
      "Testing maj(x, y, z) function:\n",
      "\n",
      "\tTest Case 1: maj(0b1101, 0b1011, 0b1001) = 0b1001\n",
      "\tTest Case 2: maj(0b1111, 0b1111, 0b1111) = 0b1111\n",
      "\tTest Case 3: maj(0b0000, 0b1111, 0b1111) = 0b1111\n",
      "\tTest Case 4: maj(0b0101, 0b1010, 0b1100) = 0b1100\n"
     ]
    }
   ],
   "source": [
    "if __name__ == '__main__':\n",
    "    print(\"Testing maj(x, y, z) function:\\n\")\n",
    "\n",
    "    # Test 1: Majority bits should be selected correctly\n",
    "    x = 0b1101\n",
    "    y = 0b1011\n",
    "    z = 0b1001\n",
    "    result = maj(x, y, z)\n",
    "    print(f\"\\tTest Case 1: maj(0b{x:04b}, 0b{y:04b}, 0b{z:04b}) = 0b{result:04b}\")\n",
    "\n",
    "    # Test 2: All inputs are the same and should return the same value\n",
    "    x = 0b1111\n",
    "    y = 0b1111\n",
    "    z = 0b1111\n",
    "    result = maj(x, y, z)\n",
    "    print(f\"\\tTest Case 2: maj(0b{x:04b}, 0b{y:04b}, 0b{z:04b}) = 0b{result:04b}\")\n",
    "\n",
    "    # Test 3: One input differs completely\n",
    "    x = 0b0000\n",
    "    y = 0b1111\n",
    "    z = 0b1111\n",
    "    result = maj(x, y, z)\n",
    "    print(f\"\\tTest Case 3: maj(0b{x:04b}, 0b{y:04b}, 0b{z:04b}) = 0b{result:04b}\")\n",
    "\n",
    "    # Test 4: Random bit pattern\n",
    "    x = 0b0101\n",
    "    y = 0b1010\n",
    "    z = 0b1100\n",
    "    result = maj(x, y, z)\n",
    "    print(f\"\\tTest Case 4: maj(0b{x:04b}, 0b{y:04b}, 0b{z:04b}) = 0b{result:04b}\")"
   ]
  },
  {
   "cell_type": "markdown",
   "metadata": {},
   "source": [
    "# Task 2: Kernighan and Ritchie Hash Function in Python"
   ]
  },
  {
   "cell_type": "code",
   "execution_count": null,
   "metadata": {},
   "outputs": [],
   "source": [
    "def kr_hash(s: str) -> int:\n",
    "    \n",
    "    hashval = 0  # Initialize hash value\n",
    "\n",
    "    for char in s:\n",
    "        hashval = ord(char) + 31 * hashval  # Multiply previous hash by 31 and add ASCII value of current char\n",
    "\n",
    "    return hashval % 101  # Take modulus 101 to keep hash values within a small range"
   ]
  },
  {
   "cell_type": "markdown",
   "metadata": {},
   "source": [
    "Testing the kr_hash Function"
   ]
  },
  {
   "cell_type": "code",
   "execution_count": null,
   "metadata": {},
   "outputs": [
    {
     "name": "stdout",
     "output_type": "stream",
     "text": [
      "Hash of 'hello': 17\n",
      "Hash of 'world': 34\n",
      "Hash of 'kernighan': 37\n",
      "Hash of 'ritchie': 26\n",
      "Hash of 'hash': 15\n"
     ]
    }
   ],
   "source": [
    "def test_kr_hash():\n",
    "    \n",
    "    test_strings = [\"hello\", \"world\", \"kernighan\", \"ritchie\", \"hash\"]  # List of test strings\n",
    "    \n",
    "    for s in test_strings:\n",
    "        print(f\"Hash of '{s}': {kr_hash(s)}\")  # Print hash value of each string\n",
    "\n",
    "test_kr_hash()  # Execute the test function"
   ]
  },
  {
   "cell_type": "markdown",
   "metadata": {},
   "source": [
    "# Task 3: SHA256 Padding Calculation"
   ]
  },
  {
   "cell_type": "code",
   "execution_count": 39,
   "metadata": {},
   "outputs": [],
   "source": [
    "def calculate_sha256_padding(file_path):\n",
    "\n",
    "    # Read the file to get its length in bytes\n",
    "    with open(file_path, \"rb\") as f:\n",
    "        data = f.read()\n",
    "    original_length = len(data)\n",
    "    bit_length = original_length * 8\n",
    "\n",
    "    # Start building the padding\n",
    "    padding = bytearray()\n",
    "    # Append the 0x80 byte (10000000 in binary)\n",
    "    padding.append(0x80)\n",
    "\n",
    "    # Calculate how many zero bytes are needed.\n",
    "    # The total padded message (original data + padding + 8 bytes for length) must be a multiple of 64.\n",
    "    # We already have original_length + 1 bytes, so we need:\n",
    "    #   (original_length + 1 + zero_bytes + 8) % 64 == 0\n",
    "    # Zero_bytes = (56 - (original_length + 1) % 64) % 64.\n",
    "    zero_bytes = (56 - (original_length + 1) % 64) % 64\n",
    "    padding.extend(b'\\x00' * zero_bytes)\n",
    "\n",
    "    # Append the 64-bit big-endian representation of the original message length in bits.\n",
    "    padding.extend(bit_length.to_bytes(8, byteorder='big'))\n",
    "\n",
    "    # Print the padding in hex (each byte as two hex digits)\n",
    "    print(\" \".join(f\"{byte:02x}\" for byte in padding))"
   ]
  },
  {
   "cell_type": "markdown",
   "metadata": {},
   "source": [
    "TEST CASE"
   ]
  },
  {
   "cell_type": "code",
   "execution_count": 40,
   "metadata": {},
   "outputs": [
    {
     "name": "stdout",
     "output_type": "stream",
     "text": [
      "Testing SHA256 padding for a file containing 'abc':\n",
      "80 00 00 00 00 00 00 00 00 00 00 00 00 00 00 00 00 00 00 00 00 00 00 00 00 00 00 00 00 00 00 00 00 00 00 00 00 00 00 00 00 00 00 00 00 00 00 00 00 00 00 00 00 00 00 00 00 00 00 00 18\n",
      "Deleted temporary file: test_abc.txt\n"
     ]
    }
   ],
   "source": [
    "import os\n",
    "\n",
    "# Create a temporary file with content \"abc\"\n",
    "test_filename = \"test_abc.txt\"\n",
    "with open(test_filename, \"wb\") as f:\n",
    "    f.write(b\"abc\")\n",
    "\n",
    "print(\"Testing SHA256 padding for a file containing 'abc':\")\n",
    "\n",
    "# Compute and print the SHA256 padding\n",
    "calculate_sha256_padding(test_filename)\n",
    "\n",
    "# Delete the test file after usage\n",
    "os.remove(test_filename)\n",
    "print(f\"Deleted temporary file: {test_filename}\")"
   ]
  },
  {
   "cell_type": "markdown",
   "metadata": {},
   "source": [
    "# Task 4: Calculating the First 100 Prime Numbers"
   ]
  },
  {
   "cell_type": "code",
   "execution_count": 41,
   "metadata": {},
   "outputs": [],
   "source": [
    "def is_prime(n):\n",
    "    if n < 2:\n",
    "        return False\n",
    "    for i in range(2, int(n**0.5) + 1):\n",
    "        if n % i == 0:\n",
    "            return False\n",
    "        return True"
   ]
  },
  {
   "cell_type": "markdown",
   "metadata": {},
   "source": [
    "Trial Division"
   ]
  },
  {
   "cell_type": "code",
   "execution_count": 42,
   "metadata": {},
   "outputs": [
    {
     "name": "stdout",
     "output_type": "stream",
     "text": [
      "Trial Division:\n",
      " [5, 7, 9, 11, 13, 15, 17, 19, 21, 23, 25, 27, 29, 31, 33, 35, 37, 39, 41, 43, 45, 47, 49, 51, 53, 55, 57, 59, 61, 63, 65, 67, 69, 71, 73, 75, 77, 79, 81, 83, 85, 87, 89, 91, 93, 95, 97, 99, 101, 103, 105, 107, 109, 111, 113, 115, 117, 119, 121, 123, 125, 127, 129, 131, 133, 135, 137, 139, 141, 143, 145, 147, 149, 151, 153, 155, 157, 159, 161, 163, 165, 167, 169, 171, 173, 175, 177, 179, 181, 183, 185, 187, 189, 191, 193, 195, 197, 199, 201, 203]\n"
     ]
    }
   ],
   "source": [
    "def primes_trial_division(limit):\n",
    "    primes = []\n",
    "    num = 2\n",
    "    while len(primes) < limit:\n",
    "        if is_prime(num):\n",
    "            primes.append(num)\n",
    "        num += 1\n",
    "    return primes\n",
    "\n",
    "print(\"Trial Division:\\n\", primes_trial_division(100))"
   ]
  },
  {
   "cell_type": "markdown",
   "metadata": {},
   "source": [
    "Sieve of Eratosthenes"
   ]
  },
  {
   "cell_type": "code",
   "execution_count": 43,
   "metadata": {},
   "outputs": [
    {
     "name": "stdout",
     "output_type": "stream",
     "text": [
      "\n",
      "Sieve of Eratosthenes:\n",
      " [2, 3, 5, 7, 11, 13, 17, 19, 23, 29, 31, 37, 41, 43, 47, 53, 59, 61, 67, 71, 73, 79, 83, 89, 97, 101, 103, 107, 109, 113, 127, 131, 137, 139, 149, 151, 157, 163, 167, 173, 179, 181, 191, 193, 197, 199, 211, 223, 227, 229, 233, 239, 241, 251, 257, 263, 269, 271, 277, 281, 283, 293, 307, 311, 313, 317, 331, 337, 347, 349, 353, 359, 367, 373, 379, 383, 389, 397, 401, 409, 419, 421, 431, 433, 439, 443, 449, 457, 461, 463, 467, 479, 487, 491, 499, 503, 509, 521, 523, 541]\n"
     ]
    }
   ],
   "source": [
    "def sieve_of_eratosthenes(n):\n",
    "    size = 600\n",
    "    is_prime = [True] * size\n",
    "    is_prime[0] = is_prime[1] = False\n",
    "\n",
    "    for i in range(2, int(size**0.5) + 1):\n",
    "        if is_prime[i]:\n",
    "            for j in range(i*i, size, i):\n",
    "                is_prime[j] = False\n",
    "            \n",
    "    primes = [i for i, val in enumerate(is_prime) if val]\n",
    "    return primes[:n]\n",
    "\n",
    "print(\"\\nSieve of Eratosthenes:\\n\", sieve_of_eratosthenes(100))"
   ]
  },
  {
   "cell_type": "markdown",
   "metadata": {},
   "source": [
    "# Task 5: Roots"
   ]
  },
  {
   "cell_type": "code",
   "execution_count": null,
   "metadata": {},
   "outputs": [],
   "source": []
  }
 ],
 "metadata": {
  "kernelspec": {
   "display_name": "base",
   "language": "python",
   "name": "python3"
  },
  "language_info": {
   "codemirror_mode": {
    "name": "ipython",
    "version": 3
   },
   "file_extension": ".py",
   "mimetype": "text/x-python",
   "name": "python",
   "nbconvert_exporter": "python",
   "pygments_lexer": "ipython3",
   "version": "3.12.7"
  }
 },
 "nbformat": 4,
 "nbformat_minor": 2
}
