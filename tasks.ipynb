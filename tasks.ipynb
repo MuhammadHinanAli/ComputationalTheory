{
 "cells": [
  {
   "cell_type": "markdown",
   "metadata": {},
   "source": [
    "# Task 1: Binary Representation"
   ]
  },
  {
   "cell_type": "markdown",
   "metadata": {},
   "source": [
    "Description of the rotl Function"
   ]
  },
  {
   "cell_type": "code",
   "execution_count": 1,
   "metadata": {},
   "outputs": [],
   "source": [
    "def rotl(x, n=1):\n",
    "    \n",
    "    # Ensure x is treated as a 32-bit unsigned integer\n",
    "    x &= 0xffffffff\n",
    "\n",
    "    # Use modulo 32 to handle cases where n > 32\n",
    "    n %= 32\n",
    "\n",
    "    # Perform the rotation by shifting left and right\n",
    "    # Reference: https://www.geeksforgeeks.org/python3-program-to-rotate-bits-of-a-number/?utm_source=chatgpt.com\n",
    "    return ((x << n) | (x >> (32 - n))) & 0xFFFFFFFF  # Masking to ensure 32-bit unsigned integer result"
   ]
  },
  {
   "cell_type": "markdown",
   "metadata": {},
   "source": [
    "Description of Test Cases for rotl(x, n=1)"
   ]
  },
  {
   "cell_type": "code",
   "execution_count": 2,
   "metadata": {},
   "outputs": [
    {
     "name": "stdout",
     "output_type": "stream",
     "text": [
      "Testing rotl(x, n=1) function:\n",
      "\n",
      "\tTest Case 1: rotl(0x12345678, 4) = 0x23456781\n",
      "\tTest Case 2: rotl(0x12345678, 0) = 0x12345678\n",
      "\tTest Case 3: rotl(0x12345678, 32) = 0x12345678\n",
      "\tTest Case 4: rotl(0x12345678, 36) = 0x23456781\n"
     ]
    }
   ],
   "source": [
    "# Test cases for rotl(x, n=1)\n",
    "if __name__ == '__main__':\n",
    "\n",
    "    print(\"Testing rotl(x, n=1) function:\\n\")\n",
    "\n",
    "    # Test 1: Rotate a typical 32-bit integer\n",
    "    x = 0x12345678\n",
    "    result = rotl(x, 4)\n",
    "    print(f\"\\tTest Case 1: rotl(0x{x:08x}, 4) = 0x{result:08x}\")\n",
    "\n",
    "    # Test 2: Rotation by 0 positions should return the same number\n",
    "    result = rotl(x, 0)\n",
    "    print(f\"\\tTest Case 2: rotl(0x{x:08x}, 0) = 0x{result:08x}\")\n",
    "\n",
    "    # Test 3: Rotation by 32 positions should return the same number\n",
    "    result = rotl(x, 32)\n",
    "    print(f\"\\tTest Case 3: rotl(0x{x:08x}, 32) = 0x{result:08x}\")\n",
    "\n",
    "    # Test 4: Rotation by a value greater than 32 (e.g., 36) is handled modulo 32\n",
    "    result = rotl(x, 36)\n",
    "    print(f\"\\tTest Case 4: rotl(0x{x:08x}, 36) = 0x{result:08x}\")"
   ]
  },
  {
   "cell_type": "markdown",
   "metadata": {},
   "source": [
    "Description of the rotr Function"
   ]
  },
  {
   "cell_type": "code",
   "execution_count": 3,
   "metadata": {},
   "outputs": [],
   "source": [
    "def rotr(x, n=1):\n",
    "\n",
    "    # Ensure x is treated as a 32-bit unsigned integer\n",
    "    x &= 0xffffffff\n",
    "\n",
    "    # Use modulo 32 to handle cases where n > 32\n",
    "    n %= 32\n",
    "\n",
    "    # Perform the rotation by shifting right and left\n",
    "    return ((x >> n) | (x << (32 - n))) & 0xFFFFFFFF  # Masking to ensure 32-bit unsigned integer result"
   ]
  },
  {
   "cell_type": "markdown",
   "metadata": {},
   "source": [
    "Description of Test Cases for rotr(x, n=1)"
   ]
  },
  {
   "cell_type": "code",
   "execution_count": 4,
   "metadata": {},
   "outputs": [
    {
     "name": "stdout",
     "output_type": "stream",
     "text": [
      "Testing rotr(x, n=1) function:\n",
      "\n",
      "\tTest Case 1: rotr(0x12345678, 4) = 0x81234567\n",
      "\tTest Case 2: rotr(0x12345678, 0) = 0x12345678\n",
      "\tTest Case 3: rotr(0x12345678, 32) = 0x12345678\n",
      "\tTest Case 4: rotr(0x12345678, 36) = 0x81234567\n"
     ]
    }
   ],
   "source": [
    "# Test cases for rotr(x, n=1)\n",
    "if __name__ == '__main__':\n",
    "\n",
    "    print(\"Testing rotr(x, n=1) function:\\n\")\n",
    "\n",
    "    # Test 1: Rotate a typical 32-bit integer\n",
    "    x = 0x12345678\n",
    "    result = rotr(x, 4)\n",
    "    print(f\"\\tTest Case 1: rotr(0x{x:08x}, 4) = 0x{result:08x}\")\n",
    "\n",
    "    # Test 2: Rotation by 0 positions should return the same number\n",
    "    result = rotr(x, 0)\n",
    "    print(f\"\\tTest Case 2: rotr(0x{x:08x}, 0) = 0x{result:08x}\")\n",
    "\n",
    "    # Test 3: Rotation by 32 positions should return the same number\n",
    "    result = rotr(x, 32)\n",
    "    print(f\"\\tTest Case 3: rotr(0x{x:08x}, 32) = 0x{result:08x}\")\n",
    "\n",
    "    # Test 4: Rotation by a value greater than 32 (e.g., 36) is handled modulo 32\n",
    "    result = rotr(x, 36)\n",
    "    print(f\"\\tTest Case 4: rotr(0x{x:08x}, 36) = 0x{result:08x}\")"
   ]
  },
  {
   "cell_type": "markdown",
   "metadata": {},
   "source": [
    "Description of the ch Function"
   ]
  },
  {
   "cell_type": "code",
   "execution_count": 5,
   "metadata": {},
   "outputs": [],
   "source": [
    "def ch(x, y, z):\n",
    "\n",
    "    # Ensure x, y, z are treated as 32-bit unsigned integers\n",
    "    x &= 0xffffffff\n",
    "    y &= 0xffffffff\n",
    "    z &= 0xffffffff\n",
    "\n",
    "    # Use bitwise operations to select bits\n",
    "    return ((x & y) | (~x & z)) & 0xFFFFFFFF  # Masking to ensure 32-bit unsigned integer result"
   ]
  },
  {
   "cell_type": "markdown",
   "metadata": {},
   "source": [
    "Description of Test Cases for ch(x, y, z)"
   ]
  },
  {
   "cell_type": "code",
   "execution_count": 6,
   "metadata": {},
   "outputs": [
    {
     "name": "stdout",
     "output_type": "stream",
     "text": [
      "Testing ch(x, y, z) function:\n",
      "\n",
      "\tTest Case 1: ch(0b1101, 0b1111, 0b0000) = 0b1101\n",
      "\tTest Case 2: ch(0b1111, 0b1100, 0b1010) = 0b1100\n",
      "\tTest Case 3: ch(0b0000, 0b1111, 0b1010) = 0b1010\n",
      "\tTest Case 4: ch(0b1010, 0b1100, 0b0110) = 0b1100\n"
     ]
    }
   ],
   "source": [
    "# Test cases for ch(x, y, z)\n",
    "if __name__ == '__main__':\n",
    "    print(\"Testing ch(x, y, z) function:\\n\")\n",
    "\n",
    "    # Test 1: Typical case where bits from y and z are selected based on x\n",
    "    x = 0b1101\n",
    "    y = 0b1111\n",
    "    z = 0b0000\n",
    "    result = ch(x, y, z)\n",
    "    print(f\"\\tTest Case 1: ch(0b{x:04b}, 0b{y:04b}, 0b{z:04b}) = 0b{result:04b}\")\n",
    "\n",
    "    # Test 2: x is all 1's, so all bits are chosen from y\n",
    "    x = 0b1111\n",
    "    y = 0b1100\n",
    "    z = 0b1010\n",
    "    result = ch(x, y, z)\n",
    "    print(f\"\\tTest Case 2: ch(0b{x:04b}, 0b{y:04b}, 0b{z:04b}) = 0b{result:04b}\")\n",
    "\n",
    "    # Test 3: x is all 0's, so all bits are chosen from z\n",
    "    x = 0b0000\n",
    "    y = 0b1111\n",
    "    z = 0b1010\n",
    "    result = ch(x, y, z)\n",
    "    print(f\"\\tTest Case 3: ch(0b{x:04b}, 0b{y:04b}, 0b{z:04b}) = 0b{result:04b}\")\n",
    "\n",
    "     # Test 4: Rotation where x has random bits set\n",
    "    x = 0b1010\n",
    "    y = 0b1100\n",
    "    z = 0b0110\n",
    "    result = ch(x, y, z)\n",
    "    print(f\"\\tTest Case 4: ch(0b{x:04b}, 0b{y:04b}, 0b{z:04b}) = 0b{result:04b}\")"
   ]
  },
  {
   "cell_type": "markdown",
   "metadata": {},
   "source": [
    "Description of the maj Function"
   ]
  },
  {
   "cell_type": "code",
   "execution_count": 7,
   "metadata": {},
   "outputs": [],
   "source": [
    "def maj(x, y, z):\n",
    "\n",
    "    # Ensure x, y, and z are treated as 32-bit unsigned integers\n",
    "    x &= 0xffffffff\n",
    "    y &= 0xffffffff\n",
    "    z &= 0xffffffff\n",
    "\n",
    "    # Majority function using bitwise operations\n",
    "    return ((x & y) | (x & z) | (y & z)) & 0xFFFFFFFF"
   ]
  },
  {
   "cell_type": "markdown",
   "metadata": {},
   "source": [
    "Description of Test Cases for maj(x, y, z)"
   ]
  },
  {
   "cell_type": "code",
   "execution_count": 8,
   "metadata": {},
   "outputs": [
    {
     "name": "stdout",
     "output_type": "stream",
     "text": [
      "Testing maj(x, y, z) function:\n",
      "\n",
      "\tTest Case 1: maj(0b1101, 0b1011, 0b1001) = 0b1001\n",
      "\tTest Case 2: maj(0b1111, 0b1111, 0b1111) = 0b1111\n",
      "\tTest Case 3: maj(0b0000, 0b1111, 0b1111) = 0b1111\n",
      "\tTest Case 4: maj(0b0101, 0b1010, 0b1100) = 0b1100\n"
     ]
    }
   ],
   "source": [
    "if __name__ == '__main__':\n",
    "    print(\"Testing maj(x, y, z) function:\\n\")\n",
    "\n",
    "    # Test 1: Majority bits should be selected correctly\n",
    "    x = 0b1101\n",
    "    y = 0b1011\n",
    "    z = 0b1001\n",
    "    result = maj(x, y, z)\n",
    "    print(f\"\\tTest Case 1: maj(0b{x:04b}, 0b{y:04b}, 0b{z:04b}) = 0b{result:04b}\")\n",
    "\n",
    "    # Test 2: All inputs are the same and should return the same value\n",
    "    x = 0b1111\n",
    "    y = 0b1111\n",
    "    z = 0b1111\n",
    "    result = maj(x, y, z)\n",
    "    print(f\"\\tTest Case 2: maj(0b{x:04b}, 0b{y:04b}, 0b{z:04b}) = 0b{result:04b}\")\n",
    "\n",
    "    # Test 3: One input differs completely\n",
    "    x = 0b0000\n",
    "    y = 0b1111\n",
    "    z = 0b1111\n",
    "    result = maj(x, y, z)\n",
    "    print(f\"\\tTest Case 3: maj(0b{x:04b}, 0b{y:04b}, 0b{z:04b}) = 0b{result:04b}\")\n",
    "\n",
    "    # Test 4: Random bit pattern\n",
    "    x = 0b0101\n",
    "    y = 0b1010\n",
    "    z = 0b1100\n",
    "    result = maj(x, y, z)\n",
    "    print(f\"\\tTest Case 4: maj(0b{x:04b}, 0b{y:04b}, 0b{z:04b}) = 0b{result:04b}\")"
   ]
  },
  {
   "cell_type": "markdown",
   "metadata": {},
   "source": [
    "# Task 2: Kernighan and Ritchie Hash Function in Python"
   ]
  },
  {
   "cell_type": "code",
   "execution_count": 9,
   "metadata": {},
   "outputs": [],
   "source": [
    "def kr_hash(s: str) -> int:\n",
    "    \n",
    "    hashval = 0  # Initialize hash value\n",
    "\n",
    "    for char in s:\n",
    "        hashval = ord(char) + 31 * hashval  # Multiply previous hash by 31 and add ASCII value of current char\n",
    "\n",
    "    return hashval % 101  # Take modulus 101 to keep hash values within a small range"
   ]
  },
  {
   "cell_type": "markdown",
   "metadata": {},
   "source": [
    "Testing the kr_hash Function"
   ]
  },
  {
   "cell_type": "code",
   "execution_count": 10,
   "metadata": {},
   "outputs": [
    {
     "name": "stdout",
     "output_type": "stream",
     "text": [
      "Hash of 'hello': 17\n",
      "Hash of 'world': 34\n",
      "Hash of 'kernighan': 37\n",
      "Hash of 'ritchie': 26\n",
      "Hash of 'hash': 15\n"
     ]
    }
   ],
   "source": [
    "def test_kr_hash():\n",
    "    \n",
    "    test_strings = [\"hello\", \"world\", \"kernighan\", \"ritchie\", \"hash\"]  # List of test strings\n",
    "    \n",
    "    for s in test_strings:\n",
    "        print(f\"Hash of '{s}': {kr_hash(s)}\")  # Print hash value of each string\n",
    "\n",
    "test_kr_hash()  # Execute the test function"
   ]
  },
  {
   "cell_type": "markdown",
   "metadata": {},
   "source": [
    "# Task 3: SHA256 Padding Calculation"
   ]
  },
  {
   "cell_type": "code",
   "execution_count": 11,
   "metadata": {},
   "outputs": [],
   "source": [
    "def calculate_sha256_padding(file_path):\n",
    "\n",
    "    # Read the file to get its length in bytes\n",
    "    with open(file_path, \"rb\") as f:\n",
    "        data = f.read()\n",
    "    original_length = len(data)\n",
    "    bit_length = original_length * 8\n",
    "\n",
    "    # Start building the padding\n",
    "    padding = bytearray()\n",
    "    # Append the 0x80 byte (10000000 in binary)\n",
    "    padding.append(0x80)\n",
    "\n",
    "    # Calculate how many zero bytes are needed.\n",
    "    # The total padded message (original data + padding + 8 bytes for length) must be a multiple of 64.\n",
    "    # We already have original_length + 1 bytes, so we need:\n",
    "    #   (original_length + 1 + zero_bytes + 8) % 64 == 0\n",
    "    # Zero_bytes = (56 - (original_length + 1) % 64) % 64.\n",
    "    zero_bytes = (56 - (original_length + 1) % 64) % 64\n",
    "    padding.extend(b'\\x00' * zero_bytes)\n",
    "\n",
    "    # Append the 64-bit big-endian representation of the original message length in bits.\n",
    "    padding.extend(bit_length.to_bytes(8, byteorder='big'))\n",
    "\n",
    "    # Print the padding in hex (each byte as two hex digits)\n",
    "    print(\" \".join(f\"{byte:02x}\" for byte in padding))"
   ]
  },
  {
   "cell_type": "markdown",
   "metadata": {},
   "source": [
    "TEST CASE"
   ]
  },
  {
   "cell_type": "code",
   "execution_count": 12,
   "metadata": {},
   "outputs": [
    {
     "name": "stdout",
     "output_type": "stream",
     "text": [
      "Testing SHA256 padding for a file containing 'abc':\n",
      "80 00 00 00 00 00 00 00 00 00 00 00 00 00 00 00 00 00 00 00 00 00 00 00 00 00 00 00 00 00 00 00 00 00 00 00 00 00 00 00 00 00 00 00 00 00 00 00 00 00 00 00 00 00 00 00 00 00 00 00 18\n",
      "Deleted temporary file: test_abc.txt\n"
     ]
    }
   ],
   "source": [
    "import os\n",
    "\n",
    "# Create a temporary file with content \"abc\"\n",
    "test_filename = \"test_abc.txt\"\n",
    "with open(test_filename, \"wb\") as f:\n",
    "    f.write(b\"abc\")\n",
    "\n",
    "print(\"Testing SHA256 padding for a file containing 'abc':\")\n",
    "\n",
    "# Compute and print the SHA256 padding\n",
    "calculate_sha256_padding(test_filename)\n",
    "\n",
    "# Delete the test file after usage\n",
    "os.remove(test_filename)\n",
    "print(f\"Deleted temporary file: {test_filename}\")"
   ]
  },
  {
   "cell_type": "markdown",
   "metadata": {},
   "source": [
    "# Task 4: Calculating the First 100 Prime Numbers"
   ]
  },
  {
   "cell_type": "code",
   "execution_count": 13,
   "metadata": {},
   "outputs": [],
   "source": [
    "# Function to check if a number is prime\n",
    "def is_prime(n):\n",
    "    # Prime numbers are greater than 1; if n is less than 2, it's not prime\n",
    "    if n < 2:\n",
    "        return False\n",
    "\n",
    "    # Loop from 2 to the square root of n (inclusive)\n",
    "    for i in range(2, int(n**0.5) + 1):\n",
    "        # If n is divisible by any number in this range, it's not prime\n",
    "        if n % i == 0:\n",
    "            return False\n",
    "\n",
    "        # If no divisors were found, n is prime\n",
    "        return True"
   ]
  },
  {
   "cell_type": "markdown",
   "metadata": {},
   "source": [
    "Trial Division"
   ]
  },
  {
   "cell_type": "code",
   "execution_count": 14,
   "metadata": {},
   "outputs": [
    {
     "name": "stdout",
     "output_type": "stream",
     "text": [
      "Trial Division:\n",
      " [5, 7, 9, 11, 13, 15, 17, 19, 21, 23, 25, 27, 29, 31, 33, 35, 37, 39, 41, 43, 45, 47, 49, 51, 53, 55, 57, 59, 61, 63, 65, 67, 69, 71, 73, 75, 77, 79, 81, 83, 85, 87, 89, 91, 93, 95, 97, 99, 101, 103, 105, 107, 109, 111, 113, 115, 117, 119, 121, 123, 125, 127, 129, 131, 133, 135, 137, 139, 141, 143, 145, 147, 149, 151, 153, 155, 157, 159, 161, 163, 165, 167, 169, 171, 173, 175, 177, 179, 181, 183, 185, 187, 189, 191, 193, 195, 197, 199, 201, 203]\n"
     ]
    }
   ],
   "source": [
    "# Function to generate the first 'limit' prime numbers using trial division\n",
    "def primes_trial_division(limit):\n",
    "    primes = []  # List to store prime numbers\n",
    "    num = 2       # Starting number to check for primality (2 is the first prime)\n",
    "\n",
    "    # Loop until we have 'limit' prime numbers\n",
    "    while len(primes) < limit:\n",
    "        # Check if the current number is prime\n",
    "        if is_prime(num):\n",
    "            primes.append(num)  # If prime, add it to the list\n",
    "        num += 1  # Move to the next number\n",
    "\n",
    "    return primes  # Return the list of prime numbers\n",
    "\n",
    "# Call the function and print the first 100 prime numbers\n",
    "print(\"Trial Division:\\n\", primes_trial_division(100))\n"
   ]
  },
  {
   "cell_type": "markdown",
   "metadata": {},
   "source": [
    "Sieve of Eratosthenes"
   ]
  },
  {
   "cell_type": "code",
   "execution_count": 15,
   "metadata": {},
   "outputs": [
    {
     "name": "stdout",
     "output_type": "stream",
     "text": [
      "\n",
      "Sieve of Eratosthenes:\n",
      " [2, 3, 5, 7, 11, 13, 17, 19, 23, 29, 31, 37, 41, 43, 47, 53, 59, 61, 67, 71, 73, 79, 83, 89, 97, 101, 103, 107, 109, 113, 127, 131, 137, 139, 149, 151, 157, 163, 167, 173, 179, 181, 191, 193, 197, 199, 211, 223, 227, 229, 233, 239, 241, 251, 257, 263, 269, 271, 277, 281, 283, 293, 307, 311, 313, 317, 331, 337, 347, 349, 353, 359, 367, 373, 379, 383, 389, 397, 401, 409, 419, 421, 431, 433, 439, 443, 449, 457, 461, 463, 467, 479, 487, 491, 499, 503, 509, 521, 523, 541]\n"
     ]
    }
   ],
   "source": [
    "# Function to generate the first 'n' prime numbers using the Sieve of Eratosthenes algorithm\n",
    "def sieve_of_eratosthenes(n):\n",
    "    size = 600  # Arbitrary upper limit to find enough primes; should be >= the nth prime\n",
    "    is_prime = [True] * size  # Initialize all numbers as potential primes\n",
    "    is_prime[0] = is_prime[1] = False  # 0 and 1 are not prime\n",
    "\n",
    "    # Eliminate non-prime numbers by marking their multiples as False\n",
    "    for i in range(2, int(size**0.5) + 1):  # Only go up to the square root of the size\n",
    "        if is_prime[i]:\n",
    "            # Start marking from i*i, and mark every multiple of i as non-prime\n",
    "            for j in range(i*i, size, i):\n",
    "                is_prime[j] = False\n",
    "\n",
    "    # Extract the indices of True values, which represent prime numbers\n",
    "    primes = [i for i, val in enumerate(is_prime) if val]\n",
    "\n",
    "    # Return only the first 'n' prime numbers\n",
    "    return primes[:n]\n",
    "\n",
    "# Print the first 100 prime numbers using the Sieve of Eratosthenes\n",
    "print(\"\\nSieve of Eratosthenes:\\n\", sieve_of_eratosthenes(100))\n"
   ]
  },
  {
   "cell_type": "markdown",
   "metadata": {},
   "source": [
    "# Task 5: Extracting 32 Bits of Fractional Parts of Square Roots for the First 100 Primes"
   ]
  },
  {
   "cell_type": "code",
   "execution_count": 16,
   "metadata": {},
   "outputs": [],
   "source": [
    "import math  # Make sure to import math for square root function\n",
    "\n",
    "# Function to calculate the fractional bits from the square roots of prime numbers\n",
    "def get_root_bits(primes):\n",
    "    results = []  # List to store the resulting integer bits\n",
    "\n",
    "    for p in primes:\n",
    "        root = math.sqrt(p)       # Calculate the square root of the prime number\n",
    "        frac = root % 1           # Get the fractional part (e.g., for 5.385, this is 0.385)\n",
    "        bits = int(frac * (2**32))  # Scale the fraction to a 32-bit integer range\n",
    "        results.append(bits)      # Append the result to the list\n",
    "\n",
    "    return results  # Return the list of 32-bit values derived from square roots\n"
   ]
  },
  {
   "cell_type": "code",
   "execution_count": 17,
   "metadata": {},
   "outputs": [
    {
     "name": "stdout",
     "output_type": "stream",
     "text": [
      "Prime: 5 → 32-bit frac: 0x3c6ef372\n",
      "Prime: 7 → 32-bit frac: 0xa54ff53a\n",
      "Prime: 9 → 32-bit frac: 0x00000000\n",
      "Prime: 11 → 32-bit frac: 0x510e527f\n",
      "Prime: 13 → 32-bit frac: 0x9b05688c\n",
      "Prime: 15 → 32-bit frac: 0xdf7bd629\n",
      "Prime: 17 → 32-bit frac: 0x1f83d9ab\n",
      "Prime: 19 → 32-bit frac: 0x5be0cd19\n",
      "Prime: 21 → 32-bit frac: 0x9523ae45\n",
      "Prime: 23 → 32-bit frac: 0xcbbb9d5d\n",
      "Prime: 25 → 32-bit frac: 0x00000000\n",
      "Prime: 27 → 32-bit frac: 0x32370b90\n",
      "Prime: 29 → 32-bit frac: 0x629a292a\n",
      "Prime: 31 → 32-bit frac: 0x9159015a\n",
      "Prime: 33 → 32-bit frac: 0xbe9ba858\n",
      "Prime: 35 → 32-bit frac: 0xea843464\n",
      "Prime: 37 → 32-bit frac: 0x152fecd8\n",
      "Prime: 39 → 32-bit frac: 0x3eb83056\n",
      "Prime: 41 → 32-bit frac: 0x67332667\n",
      "Prime: 43 → 32-bit frac: 0x8eb44a87\n",
      "Prime: 45 → 32-bit frac: 0xb54cda58\n",
      "Prime: 47 → 32-bit frac: 0xdb0c2e0d\n",
      "Prime: 49 → 32-bit frac: 0x00000000\n",
      "Prime: 51 → 32-bit frac: 0x2434a74b\n",
      "Prime: 53 → 32-bit frac: 0x47b5481d\n",
      "Prime: 55 → 32-bit frac: 0x6a8bfbea\n",
      "Prime: 57 → 32-bit frac: 0x8cc1f315\n",
      "Prime: 59 → 32-bit frac: 0xae5f9156\n",
      "Prime: 61 → 32-bit frac: 0xcf6c85d3\n",
      "Prime: 63 → 32-bit frac: 0xefefdfaf\n",
      "Prime: 65 → 32-bit frac: 0x0ff01fb0\n",
      "Prime: 67 → 32-bit frac: 0x2f73477d\n",
      "Prime: 69 → 32-bit frac: 0x4e7ee6c7\n",
      "Prime: 71 → 32-bit frac: 0x6d1826ca\n",
      "Prime: 73 → 32-bit frac: 0x8b43d457\n",
      "Prime: 75 → 32-bit frac: 0xa906689b\n",
      "Prime: 77 → 32-bit frac: 0xc66410eb\n",
      "Prime: 79 → 32-bit frac: 0xe360b596\n",
      "Prime: 81 → 32-bit frac: 0x00000000\n",
      "Prime: 83 → 32-bit frac: 0x1c456002\n",
      "Prime: 85 → 32-bit frac: 0x383410c8\n",
      "Prime: 87 → 32-bit frac: 0x53cf1d16\n",
      "Prime: 89 → 32-bit frac: 0x6f196331\n",
      "Prime: 91 → 32-bit frac: 0x8a159854\n",
      "Prime: 93 → 32-bit frac: 0xa4c64bd8\n",
      "Prime: 95 → 32-bit frac: 0xbf2dea07\n",
      "Prime: 97 → 32-bit frac: 0xd94ebeb1\n",
      "Prime: 99 → 32-bit frac: 0xf32af77f\n",
      "Prime: 101 → 32-bit frac: 0x0cc4a611\n",
      "Prime: 103 → 32-bit frac: 0x261dc1f2\n",
      "Prime: 105 → 32-bit frac: 0x3f382a57\n",
      "Prime: 107 → 32-bit frac: 0x5815a7be\n",
      "Prime: 109 → 32-bit frac: 0x70b7ed67\n",
      "Prime: 111 → 32-bit frac: 0x89209ab6\n",
      "Prime: 113 → 32-bit frac: 0xa1513c69\n",
      "Prime: 115 → 32-bit frac: 0xb94b4dc5\n",
      "Prime: 117 → 32-bit frac: 0xd11039a4\n",
      "Prime: 119 → 32-bit frac: 0xe8a15b6d\n",
      "Prime: 121 → 32-bit frac: 0x00000000\n",
      "Prime: 123 → 32-bit frac: 0x172d6686\n",
      "Prime: 125 → 32-bit frac: 0x2e2ac13e\n",
      "Prime: 127 → 32-bit frac: 0x44f93635\n",
      "Prime: 129 → 32-bit frac: 0x5b99dfec\n",
      "Prime: 131 → 32-bit frac: 0x720dcdfd\n",
      "Prime: 133 → 32-bit frac: 0x885605af\n",
      "Prime: 135 → 32-bit frac: 0x9e73827d\n",
      "Prime: 137 → 32-bit frac: 0xb467369e\n",
      "Prime: 139 → 32-bit frac: 0xca320b75\n",
      "Prime: 141 → 32-bit frac: 0xdfd4e20d\n",
      "Prime: 143 → 32-bit frac: 0xf5509378\n",
      "Prime: 145 → 32-bit frac: 0x0aa5f13b\n",
      "Prime: 147 → 32-bit frac: 0x1fd5c5a6\n",
      "Prime: 149 → 32-bit frac: 0x34e0d42e\n",
      "Prime: 151 → 32-bit frac: 0x49c7d9bd\n",
      "Prime: 153 → 32-bit frac: 0x5e8b8d03\n",
      "Prime: 155 → 32-bit frac: 0x732c9ebb\n",
      "Prime: 157 → 32-bit frac: 0x87abb9f2\n",
      "Prime: 159 → 32-bit frac: 0x9c098444\n",
      "Prime: 161 → 32-bit frac: 0xb0469e20\n",
      "Prime: 163 → 32-bit frac: 0xc463a2fc\n",
      "Prime: 165 → 32-bit frac: 0xd861298a\n",
      "Prime: 167 → 32-bit frac: 0xec3fc3f3\n",
      "Prime: 169 → 32-bit frac: 0x00000000\n",
      "Prime: 171 → 32-bit frac: 0x13a2674b\n",
      "Prime: 173 → 32-bit frac: 0x27277f6d\n",
      "Prime: 175 → 32-bit frac: 0x3a8fca23\n",
      "Prime: 177 → 32-bit frac: 0x4ddbc57b\n",
      "Prime: 179 → 32-bit frac: 0x610bebf2\n",
      "Prime: 181 → 32-bit frac: 0x7420b49e\n",
      "Prime: 183 → 32-bit frac: 0x871a934d\n",
      "Prime: 185 → 32-bit frac: 0x99f9f8a4\n",
      "Prime: 187 → 32-bit frac: 0xacbf523f\n",
      "Prime: 189 → 32-bit frac: 0xbf6b0acf\n",
      "Prime: 191 → 32-bit frac: 0xd1fd8a33\n",
      "Prime: 193 → 32-bit frac: 0xe4773594\n",
      "Prime: 195 → 32-bit frac: 0xf6d86f7d\n",
      "Prime: 197 → 32-bit frac: 0x092197f6\n",
      "Prime: 199 → 32-bit frac: 0x1b530c95\n",
      "Prime: 201 → 32-bit frac: 0x2d6d289d\n",
      "Prime: 203 → 32-bit frac: 0x3f704507\n"
     ]
    }
   ],
   "source": [
    "# Generate the first 100 prime numbers using trial division\n",
    "primes = primes_trial_division(100)\n",
    "\n",
    "# Compute the 32-bit fractional bits of the square roots of those primes\n",
    "root_bits = get_root_bits(primes)\n",
    "\n",
    "# Print each prime and its corresponding 32-bit fractional value in hexadecimal format\n",
    "for i, bits in enumerate(root_bits):\n",
    "    # Print prime number and its corresponding 32-bit hex representation\n",
    "    # `#010x` formats the integer as 0x-prefixed, zero-padded 8-digit hex (e.g., 0x1a2b3c4d)\n",
    "    print(f\"Prime: {primes[i]} → 32-bit frac: {bits:#010x}\")"
   ]
  },
  {
   "cell_type": "markdown",
   "metadata": {},
   "source": [
    "# Task 6: Finding Words with Maximum Leading Zero Bits in Their SHA256 Hash "
   ]
  },
  {
   "cell_type": "code",
   "execution_count": 18,
   "metadata": {},
   "outputs": [],
   "source": [
    "import hashlib  # Required for SHA-256 hashing\n",
    "\n",
    "# Function to count the number of leading zeros in the binary form of a SHA-256 hash\n",
    "def leading_zeros(word):\n",
    "    # Compute the SHA-256 hash of the input word, then convert it to a hexadecimal string\n",
    "    hash_hex = hashlib.sha256(word.encode()).hexdigest()\n",
    "\n",
    "    # Convert the hexadecimal hash to a binary string (removing '0b' prefix and padding to 256 bits)\n",
    "    hash_bin = bin(int(hash_hex, 16))[2:].zfill(256)\n",
    "\n",
    "    # Count the number of leading '0's in the binary string\n",
    "    return len(hash_bin) - len(hash_bin.lstrip('0'))"
   ]
  }
 ],
 "metadata": {
  "kernelspec": {
   "display_name": "base",
   "language": "python",
   "name": "python3"
  },
  "language_info": {
   "codemirror_mode": {
    "name": "ipython",
    "version": 3
   },
   "file_extension": ".py",
   "mimetype": "text/x-python",
   "name": "python",
   "nbconvert_exporter": "python",
   "pygments_lexer": "ipython3",
   "version": "3.12.7"
  }
 },
 "nbformat": 4,
 "nbformat_minor": 2
}
