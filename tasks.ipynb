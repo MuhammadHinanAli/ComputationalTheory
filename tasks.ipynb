{
 "cells": [
  {
   "cell_type": "markdown",
   "metadata": {},
   "source": [
    "# Task 1: Binary Representations"
   ]
  },
  {
   "cell_type": "markdown",
   "metadata": {},
   "source": [
    "## Description of the rotl Function"
   ]
  },
  {
   "cell_type": "markdown",
   "metadata": {},
   "source": [
    "#### Overview\n",
    "\n",
    "The `rotl` function performs a left circular bitwise rotation on a 32-bit unsigned integer. It shifts the bits of the input value `x` to the left by `n` positions, wrapping the overflowed bits around to the right end. This operation is useful in cryptographic algorithms and low-level data processing where controlled bit manipulation is required.\n"
   ]
  },
  {
   "cell_type": "markdown",
   "metadata": {},
   "source": [
    "#### Functionality\n",
    "\n",
    "- **Input**:\n",
    "  - `x`: An integer value, assumed to be 32-bit unsigned.\n",
    "  - `n`: Number of positions to rotate left (default is 1).\n",
    "\n",
    "- **Steps**:\n",
    "  1. The input `x` is masked with `0xffffffff` to ensure it's treated as a 32-bit unsigned integer.\n",
    "  2. The rotation amount `n` is taken modulo 32 to stay within 32-bit limits.\n",
    "  3. The rotation is done by:\n",
    "     - Shifting `x` left by `n` bits.\n",
    "     - Shifting `x` right by `(32 - n)` bits.\n",
    "     - Using bitwise OR (`|`) to combine both shifted values.\n",
    "     - Applying a final mask to ensure the result is within 32-bit bounds.\n",
    "\n",
    "- **Output**:\n",
    "  - A new 32-bit unsigned integer representing the result of rotating `x` left by `n` bits."
   ]
  },
  {
   "cell_type": "code",
   "execution_count": 1,
   "metadata": {},
   "outputs": [],
   "source": [
    "def rotl(x, n=1):\n",
    "    \n",
    "    # Ensure x is treated as a 32-bit unsigned integer\n",
    "    x &= 0xffffffff\n",
    "\n",
    "    # Use modulo 32 to handle cases where n > 32\n",
    "    n %= 32\n",
    "\n",
    "    # Perform the rotation by shifting left and right\n",
    "    return ((x << n) | (x >> (32 - n))) & 0xFFFFFFFF  # Masking to ensure 32-bit unsigned integer result"
   ]
  },
  {
   "cell_type": "markdown",
   "metadata": {},
   "source": [
    "## Description of Test Cases for rotl(x, n=1)"
   ]
  },
  {
   "cell_type": "markdown",
   "metadata": {},
   "source": [
    "## Overview\n",
    "\n",
    "This script tests the behavior of a `rotl(x, n=1)` function, which is expected to perform a 32-bit circular (left) bit rotation on an unsigned integer `x` by `n` positions. The tests are designed to validate the correctness of the rotation logic under different values of `n`, including edge cases like zero, word-size (32), and values greater than 32. The actual implementation of `rotl` is assumed to exist separately.\n",
    "\n",
    "## Functionality\n",
    "\n",
    "### Function Tested\n",
    "- **Function Name:** `rotl(x, n=1)`\n",
    "- **Description:** Performs a circular left bitwise rotation on a 32-bit integer `x` by `n` positions.\n",
    "\n",
    "### Test Cases\n",
    "\n",
    "#### Test Case 1\n",
    "- **Input:** `x = 0x12345678`, `n = 4`\n",
    "- **Operation:** Rotate left by 4 bits\n",
    "- **Expected Behavior:** Left shift by 4 bits, wrap the overflow bits to the right\n",
    "\n",
    "#### Test Case 2\n",
    "- **Input:** `x = 0x12345678`, `n = 0`\n",
    "- **Operation:** Rotate left by 0 bits\n",
    "- **Expected Behavior:** No change; result should equal input\n",
    "\n",
    "#### Test Case 3\n",
    "- **Input:** `x = 0x12345678`, `n = 32`\n",
    "- **Operation:** Rotate left by 32 bits (full word)\n",
    "- **Expected Behavior:** Same as original input (full cycle)\n",
    "\n",
    "#### Test Case 4\n",
    "- **Input:** `x = 0x12345678`, `n = 36`\n",
    "- **Operation:** Rotate left by 36 bits\n",
    "- **Expected Behavior:** Equivalent to rotate by `36 % 32 = 4` bits\n",
    "\n",
    "### Assumptions\n",
    "- `rotl(x, n)` uses 32-bit unsigned integers\n",
    "- Rotation amount `n` is taken modulo 32\n",
    "- Output is printed in hexadecimal format with 8-digit zero padding\n"
   ]
  },
  {
   "cell_type": "code",
   "execution_count": 2,
   "metadata": {},
   "outputs": [
    {
     "name": "stdout",
     "output_type": "stream",
     "text": [
      "Testing rotl(x, n=1) function:\n",
      "\n",
      "\tTest Case 1: rotl(0x12345678, 4) = 0x23456781\n",
      "\tTest Case 2: rotl(0x12345678, 0) = 0x12345678\n",
      "\tTest Case 3: rotl(0x12345678, 32) = 0x12345678\n",
      "\tTest Case 4: rotl(0x12345678, 36) = 0x23456781\n"
     ]
    }
   ],
   "source": [
    "# Test cases for rotl(x, n=1)\n",
    "if __name__ == '__main__':\n",
    "\n",
    "    print(\"Testing rotl(x, n=1) function:\\n\")\n",
    "\n",
    "    # Test 1: Rotate a typical 32-bit integer\n",
    "    x = 0x12345678\n",
    "    result = rotl(x, 4)\n",
    "    print(f\"\\tTest Case 1: rotl(0x{x:08x}, 4) = 0x{result:08x}\")\n",
    "\n",
    "    # Test 2: Rotation by 0 positions should return the same number\n",
    "    result = rotl(x, 0)\n",
    "    print(f\"\\tTest Case 2: rotl(0x{x:08x}, 0) = 0x{result:08x}\")\n",
    "\n",
    "    # Test 3: Rotation by 32 positions should return the same number\n",
    "    result = rotl(x, 32)\n",
    "    print(f\"\\tTest Case 3: rotl(0x{x:08x}, 32) = 0x{result:08x}\")\n",
    "\n",
    "    # Test 4: Rotation by a value greater than 32 (e.g., 36) is handled modulo 32\n",
    "    result = rotl(x, 36)\n",
    "    print(f\"\\tTest Case 4: rotl(0x{x:08x}, 36) = 0x{result:08x}\")"
   ]
  },
  {
   "cell_type": "markdown",
   "metadata": {},
   "source": [
    "## Description of the rotr Function"
   ]
  },
  {
   "cell_type": "markdown",
   "metadata": {},
   "source": [
    "### Overview\n",
    "\n",
    "The `rotr` function performs a **right rotation** on a 32-bit unsigned integer. It rotates the bits of the number `x` by `n` positions to the right, with the bits that fall off on the right being wrapped around to the left. This function ensures that the result remains a valid 32-bit unsigned integer.\n",
    "\n",
    "#### Parameters\n",
    "\n",
    "- `x` (int): The 32-bit unsigned integer to be rotated.\n",
    "- `n` (int, default=1): The number of positions to rotate `x` to the right. If `n` is greater than 32, it will be wrapped using modulo 32.\n",
    "\n",
    "#### Behavior\n",
    "\n",
    "1. **Bitwise Masking:**\n",
    "   - The input `x` is masked with `0xffffffff` to ensure it is treated as a 32-bit unsigned integer, preserving only the lower 32 bits.\n",
    "\n",
    "2. **Modulo Operation:**\n",
    "   - The rotation value `n` is taken modulo 32 (`n %= 32`) to handle cases where the number of positions exceeds 32, as rotations beyond 32 are redundant.\n",
    "\n",
    "3. **Rotation:**\n",
    "   - The function shifts the bits of `x` to the right by `n` positions using the `>>` operator, and the bits that fall off are wrapped around to the left by shifting them to the left by `(32 - n)` positions using the `<<` operator.\n",
    "   - The result is combined using a bitwise OR (`|`), which effectively combines the right and left shifts.\n",
    "\n",
    "4. **Return Value:**\n",
    "   - The result is masked with `0xFFFFFFFF` to ensure the output remains a valid 32-bit unsigned integer.\n",
    "\n",
    "#### Return Value\n",
    "\n",
    "- The 32-bit unsigned integer result of rotating `x` to the right by `n` positions.\n"
   ]
  },
  {
   "cell_type": "code",
   "execution_count": 3,
   "metadata": {},
   "outputs": [],
   "source": [
    "def rotr(x, n=1):\n",
    "\n",
    "    # Ensure x is treated as a 32-bit unsigned integer\n",
    "    x &= 0xffffffff\n",
    "\n",
    "    # Use modulo 32 to handle cases where n > 32\n",
    "    n %= 32\n",
    "\n",
    "    # Perform the rotation by shifting right and left\n",
    "    return ((x >> n) | (x << (32 - n))) & 0xFFFFFFFF  # Masking to ensure 32-bit unsigned integer result"
   ]
  },
  {
   "cell_type": "markdown",
   "metadata": {},
   "source": [
    "## Description of Test Cases for rotr(x, n=1)\n",
    "\n",
    "### Overview\n",
    "\n",
    "The test cases for the `rotr(x, n=1)` function validate the functionality of the right rotation operation on a 32-bit integer. These tests cover various scenarios, including rotating by specific positions, rotating by zero, rotating by a multiple of 32, and handling rotations greater than 32.\n",
    "\n",
    "#### Test Case 1: Rotate a typical 32-bit integer by 4 positions\n",
    "- **Input:** `x = 0x12345678`, `n = 4`\n",
    "- **Expected Output:** Rotates `x` right by 4 bits.\n",
    "- **Output:** The result will be `0x81234567`.\n",
    "\n",
    "#### Test Case 2: Rotation by 0 positions\n",
    "- **Input:** `x = 0x12345678`, `n = 0`\n",
    "- **Expected Output:** No rotation, the number remains the same.\n",
    "- **Output:** The result will be `0x12345678`.\n",
    "\n",
    "#### Test Case 3: Rotation by 32 positions\n",
    "- **Input:** `x = 0x12345678`, `n = 32`\n",
    "- **Expected Output:** Rotation by 32 positions results in the same number.\n",
    "- **Output:** The result will be `0x12345678`.\n",
    "\n",
    "#### Test Case 4: Rotation by a value greater than 32 (e.g., 36)\n",
    "- **Input:** `x = 0x12345678`, `n = 36`\n",
    "- **Expected Output:** Rotation by 36 is handled modulo 32 (i.e., equivalent to rotating by 4).\n",
    "- **Output:** The result will be `0x81234567`.\n",
    "\n",
    "#### Summary\n",
    "\n",
    "These tests validate:\n",
    "- Correct behavior when rotating by standard values (e.g., 4, 0, 32).\n",
    "- The correct handling of rotation values greater than 32 (via modulo operation).\n",
    "- Consistent behavior for large rotations, where results should wrap around correctly."
   ]
  },
  {
   "cell_type": "code",
   "execution_count": 4,
   "metadata": {},
   "outputs": [
    {
     "name": "stdout",
     "output_type": "stream",
     "text": [
      "Testing rotr(x, n=1) function:\n",
      "\n",
      "\tTest Case 1: rotr(0x12345678, 4) = 0x81234567\n",
      "\tTest Case 2: rotr(0x12345678, 0) = 0x12345678\n",
      "\tTest Case 3: rotr(0x12345678, 32) = 0x12345678\n",
      "\tTest Case 4: rotr(0x12345678, 36) = 0x81234567\n"
     ]
    }
   ],
   "source": [
    "# Test cases for rotr(x, n=1)\n",
    "if __name__ == '__main__':\n",
    "\n",
    "    print(\"Testing rotr(x, n=1) function:\\n\")\n",
    "\n",
    "    # Test 1: Rotate a typical 32-bit integer\n",
    "    x = 0x12345678\n",
    "    result = rotr(x, 4)\n",
    "    print(f\"\\tTest Case 1: rotr(0x{x:08x}, 4) = 0x{result:08x}\")\n",
    "\n",
    "    # Test 2: Rotation by 0 positions should return the same number\n",
    "    result = rotr(x, 0)\n",
    "    print(f\"\\tTest Case 2: rotr(0x{x:08x}, 0) = 0x{result:08x}\")\n",
    "\n",
    "    # Test 3: Rotation by 32 positions should return the same number\n",
    "    result = rotr(x, 32)\n",
    "    print(f\"\\tTest Case 3: rotr(0x{x:08x}, 32) = 0x{result:08x}\")\n",
    "\n",
    "    # Test 4: Rotation by a value greater than 32 (e.g., 36) is handled modulo 32\n",
    "    result = rotr(x, 36)\n",
    "    print(f\"\\tTest Case 4: rotr(0x{x:08x}, 36) = 0x{result:08x}\")"
   ]
  },
  {
   "cell_type": "markdown",
   "metadata": {},
   "source": [
    "## Description of the ch Function\n",
    "\n",
    "#### Overview\n",
    "\n",
    "The `ch` function implements the **Ch** operation, which is used in cryptographic algorithms such as SHA-256. It takes three 32-bit unsigned integers as input and performs a bitwise operation to select bits based on the values of `x`, `y`, and `z`. This operation is often used in the context of hash functions for mixing and non-linear transformations.\n",
    "\n",
    "#### Parameters\n",
    "\n",
    "- `x` (int): The first 32-bit unsigned integer.\n",
    "- `y` (int): The second 32-bit unsigned integer.\n",
    "- `z` (int): The third 32-bit unsigned integer.\n",
    "\n",
    "#### Behavior\n",
    "\n",
    "1. **Bitwise Masking:**\n",
    "   - Each of `x`, `y`, and `z` is masked with `0xffffffff` to ensure that they are treated as 32-bit unsigned integers, which ensures the input remains within the correct range of 32-bit numbers.\n",
    "\n",
    "2. **Ch Operation:**\n",
    "   - The Ch operation computes the result using the formula:\n",
    "     - `((x & y) | (~x & z))`\n",
    "   - This operation can be thought of as selecting bits from `y` or `z` based on the value of `x`. The result is bitwise AND (`&`) between `x` and `y`, OR'd with the bitwise AND of the negation of `x` (`~x`) and `z`.\n",
    "\n",
    "3. **Return Value:**\n",
    "   - The result is masked with `0xFFFFFFFF` to ensure the final result is a valid 32-bit unsigned integer.\n",
    "\n",
    "#### Return Value\n",
    "\n",
    "- The 32-bit unsigned integer result of the Ch operation, which selects bits from `y` and `z` based on the bits in `x`."
   ]
  },
  {
   "cell_type": "code",
   "execution_count": 5,
   "metadata": {},
   "outputs": [],
   "source": [
    "def ch(x, y, z):\n",
    "\n",
    "    # Ensure x, y, z are treated as 32-bit unsigned integers\n",
    "    x &= 0xffffffff\n",
    "    y &= 0xffffffff\n",
    "    z &= 0xffffffff\n",
    "\n",
    "    # Use bitwise operations to select bits\n",
    "    return ((x & y) | (~x & z)) & 0xFFFFFFFF  # Masking to ensure 32-bit unsigned integer result"
   ]
  },
  {
   "cell_type": "markdown",
   "metadata": {},
   "source": [
    "## Description of Test Cases for ch(x, y, z)\n",
    "\n",
    "### Overview\n",
    "\n",
    "This section tests the `ch(x, y, z)` function, which performs the **Ch** operation. The `ch` function computes a bitwise combination of three 32-bit unsigned integers `x`, `y`, and `z`. It is typically used in cryptographic hash functions like SHA-256 for mixing input values.\n",
    "\n",
    "The following tests examine different scenarios to verify the correct functionality of the `ch` operation.\n",
    "\n",
    "#### Test Case 1: Typical Case\n",
    "```python\n",
    "x = 0b1101\n",
    "y = 0b1111\n",
    "z = 0b0000\n",
    "```\n",
    "In this case, the bits selected for the result come from `y` and `z` based on the bits in `x`. This test checks how the function behaves when bits from both `y` and `z` are involved.\n",
    "\n",
    "Expected output: `0b1111`\n",
    "\n",
    "#### Test Case 2: All `1`s in `x`\n",
    "```python\n",
    "x = 0b1111\n",
    "y = 0b1100\n",
    "z = 0b1010\n",
    "```\n",
    "Since `x` is all `1`s, the function will select all bits from `y`, as the result is the bitwise AND of `x` and `y`.\n",
    "\n",
    "Expected output: `0b1100`\n",
    "\n",
    "#### Test Case 3: All `0`s in `x`\n",
    "```python\n",
    "x = 0b0000\n",
    "y = 0b1111\n",
    "z = 0b1010\n",
    "```\n",
    "Here, since `x` is all `0`s, the function will select all bits from `z` based on the operation `(~x & z)`.\n",
    "\n",
    "Expected output: `0b1010`\n",
    "\n",
    "#### Test Case 4: Random Bits in `x`\n",
    "```python\n",
    "x = 0b1010\n",
    "y = 0b1100\n",
    "z = 0b0110\n",
    "```\n",
    "In this case, the result will be based on the specific bitwise combination of `x`, `y`, and `z`. This checks the function's ability to handle mixed bit values in `x`.\n",
    "\n",
    "Expected output: `0b1110`"
   ]
  },
  {
   "cell_type": "code",
   "execution_count": 6,
   "metadata": {},
   "outputs": [
    {
     "name": "stdout",
     "output_type": "stream",
     "text": [
      "Testing ch(x, y, z) function:\n",
      "\n",
      "\tTest Case 1: ch(0b1101, 0b1111, 0b0000) = 0b1101\n",
      "\tTest Case 2: ch(0b1111, 0b1100, 0b1010) = 0b1100\n",
      "\tTest Case 3: ch(0b0000, 0b1111, 0b1010) = 0b1010\n",
      "\tTest Case 4: ch(0b1010, 0b1100, 0b0110) = 0b1100\n"
     ]
    }
   ],
   "source": [
    "# Test cases for ch(x, y, z)\n",
    "if __name__ == '__main__':\n",
    "    print(\"Testing ch(x, y, z) function:\\n\")\n",
    "\n",
    "    # Test 1: Typical case where bits from y and z are selected based on x\n",
    "    x = 0b1101\n",
    "    y = 0b1111\n",
    "    z = 0b0000\n",
    "    result = ch(x, y, z)\n",
    "    print(f\"\\tTest Case 1: ch(0b{x:04b}, 0b{y:04b}, 0b{z:04b}) = 0b{result:04b}\")\n",
    "\n",
    "    # Test 2: x is all 1's, so all bits are chosen from y\n",
    "    x = 0b1111\n",
    "    y = 0b1100\n",
    "    z = 0b1010\n",
    "    result = ch(x, y, z)\n",
    "    print(f\"\\tTest Case 2: ch(0b{x:04b}, 0b{y:04b}, 0b{z:04b}) = 0b{result:04b}\")\n",
    "\n",
    "    # Test 3: x is all 0's, so all bits are chosen from z\n",
    "    x = 0b0000\n",
    "    y = 0b1111\n",
    "    z = 0b1010\n",
    "    result = ch(x, y, z)\n",
    "    print(f\"\\tTest Case 3: ch(0b{x:04b}, 0b{y:04b}, 0b{z:04b}) = 0b{result:04b}\")\n",
    "\n",
    "     # Test 4: Rotation where x has random bits set\n",
    "    x = 0b1010\n",
    "    y = 0b1100\n",
    "    z = 0b0110\n",
    "    result = ch(x, y, z)\n",
    "    print(f\"\\tTest Case 4: ch(0b{x:04b}, 0b{y:04b}, 0b{z:04b}) = 0b{result:04b}\")"
   ]
  },
  {
   "cell_type": "markdown",
   "metadata": {},
   "source": [
    "## Description of the maj Function\n",
    "\n",
    "### Overview\n",
    "The provided code implements the **majority function** using bitwise operations. It takes three 32-bit unsigned integers (`x`, `y`, and `z`) as inputs and computes the majority bit-wise value. The function ensures that the inputs are treated as 32-bit unsigned integers by applying a mask (`0xffffffff`).\n",
    "\n",
    "### Functionality:\n",
    "1. **Bitwise Masking:** Each input (`x`, `y`, `z`) is masked with `0xffffffff` to guarantee they are treated as 32-bit unsigned integers.\n",
    "2. **Majority Logic:** The majority function is computed as the bitwise OR of all possible pairwise ANDs of the inputs: `(x & y) | (x & z) | (y & z)`. This ensures that for each bit, the result will be 1 if at least two out of the three inputs have a 1 at that bit position.\n",
    "3. **Return Result:** The final result is masked with `0xFFFFFFFF` to ensure it remains within 32 bits and returned."
   ]
  },
  {
   "cell_type": "code",
   "execution_count": 7,
   "metadata": {},
   "outputs": [],
   "source": [
    "def maj(x, y, z):\n",
    "\n",
    "    # Ensure x, y, and z are treated as 32-bit unsigned integers\n",
    "    x &= 0xffffffff\n",
    "    y &= 0xffffffff\n",
    "    z &= 0xffffffff\n",
    "\n",
    "    # Majority function using bitwise operations\n",
    "    return ((x & y) | (x & z) | (y & z)) & 0xFFFFFFFF"
   ]
  },
  {
   "cell_type": "markdown",
   "metadata": {},
   "source": [
    "## Description of Test Cases for maj(x, y, z)\n",
    "\n",
    "### Overview: \n",
    "The following code tests the **maj(x, y, z)** function, which calculates the majority bit-wise value for three 4-bit binary numbers. Each test case is formatted to show the inputs and the result of the function.\n",
    "\n",
    "### Code Breakdown:\n",
    "1. **Test 1:** The inputs are `0b1101`, `0b1011`, and `0b1001`. The expected output is the majority of each bit across these values.\n",
    "2. **Test 2:** All inputs are the same (`0b1111`), so the result will be the same as the input.\n",
    "3. **Test 3:** The input `0b0000` differs completely from `0b1111` and `0b1111`. The result will reflect the majority bits of these values.\n",
    "4. **Test 4:** A random set of inputs (`0b0101`, `0b1010`, and `0b1100`) is tested to ensure the function handles varied bit patterns."
   ]
  },
  {
   "cell_type": "code",
   "execution_count": 8,
   "metadata": {},
   "outputs": [
    {
     "name": "stdout",
     "output_type": "stream",
     "text": [
      "Testing maj(x, y, z) function:\n",
      "\n",
      "\tTest Case 1: maj(0b1101, 0b1011, 0b1001) = 0b1001\n",
      "\tTest Case 2: maj(0b1111, 0b1111, 0b1111) = 0b1111\n",
      "\tTest Case 3: maj(0b0000, 0b1111, 0b1111) = 0b1111\n",
      "\tTest Case 4: maj(0b0101, 0b1010, 0b1100) = 0b1100\n"
     ]
    }
   ],
   "source": [
    "if __name__ == '__main__':\n",
    "    print(\"Testing maj(x, y, z) function:\\n\")\n",
    "\n",
    "    # Test 1: Majority bits should be selected correctly\n",
    "    x = 0b1101\n",
    "    y = 0b1011\n",
    "    z = 0b1001\n",
    "    result = maj(x, y, z)\n",
    "    print(f\"\\tTest Case 1: maj(0b{x:04b}, 0b{y:04b}, 0b{z:04b}) = 0b{result:04b}\")\n",
    "\n",
    "    # Test 2: All inputs are the same and should return the same value\n",
    "    x = 0b1111\n",
    "    y = 0b1111\n",
    "    z = 0b1111\n",
    "    result = maj(x, y, z)\n",
    "    print(f\"\\tTest Case 2: maj(0b{x:04b}, 0b{y:04b}, 0b{z:04b}) = 0b{result:04b}\")\n",
    "\n",
    "    # Test 3: One input differs completely\n",
    "    x = 0b0000\n",
    "    y = 0b1111\n",
    "    z = 0b1111\n",
    "    result = maj(x, y, z)\n",
    "    print(f\"\\tTest Case 3: maj(0b{x:04b}, 0b{y:04b}, 0b{z:04b}) = 0b{result:04b}\")\n",
    "\n",
    "    # Test 4: Random bit pattern\n",
    "    x = 0b0101\n",
    "    y = 0b1010\n",
    "    z = 0b1100\n",
    "    result = maj(x, y, z)\n",
    "    print(f\"\\tTest Case 4: maj(0b{x:04b}, 0b{y:04b}, 0b{z:04b}) = 0b{result:04b}\")"
   ]
  },
  {
   "cell_type": "markdown",
   "metadata": {},
   "source": [
    "### END OF TASK 1"
   ]
  },
  {
   "cell_type": "markdown",
   "metadata": {},
   "source": [
    "# Task 2: Hash Functions"
   ]
  },
  {
   "cell_type": "markdown",
   "metadata": {},
   "source": [
    "### Overview\n",
    "\n",
    "The `kr_hash` function implements a simple string hashing algorithm inspired by Kernighan and Ritchie (KR). It computes a hash value for a given string by treating characters as ASCII values and applying a polynomial rolling hash technique. The final hash is reduced modulo 101 to keep the result within a small, fixed range.\n",
    "\n",
    "### Functionality\n",
    "\n",
    "##### Parameters\n",
    "\n",
    "- `s` (str): The input string to hash.\n",
    "\n",
    "##### Behavior\n",
    "\n",
    "1. **Initialization:**\n",
    "   - Sets the starting `hashval` to 0.\n",
    "\n",
    "2. **Hash Accumulation:**\n",
    "   - For each character in the string:\n",
    "     - Convert the character to its ASCII value using `ord(char)`.\n",
    "     - Multiply the current `hashval` by 31 and add the ASCII value.\n",
    "     - This mimics a polynomial hash:  \n",
    "       `h(s) = s[0]*31ⁿ⁻¹ + s[1]*31ⁿ⁻² + ... + s[n-1]*31⁰`\n",
    "\n",
    "3. **Final Modulo Operation:**\n",
    "   - The result is taken modulo 101 to ensure a bounded hash space."
   ]
  },
  {
   "cell_type": "code",
   "execution_count": 9,
   "metadata": {},
   "outputs": [],
   "source": [
    "def kr_hash(s: str) -> int:\n",
    "    \n",
    "    hashval = 0  # Initialize hash value\n",
    "\n",
    "    for char in s:\n",
    "        hashval = ord(char) + 31 * hashval  # Multiply previous hash by 31 and add ASCII value of current char\n",
    "\n",
    "    return hashval % 101  # Take modulus 101 to keep hash values within a small range"
   ]
  },
  {
   "cell_type": "markdown",
   "metadata": {},
   "source": [
    "### Testing the kr_hash Function\n",
    "\n",
    "##### Overview\n",
    "\n",
    "The `test_kr_hash` function demonstrates how the `kr_hash` function computes hash values for a list of predefined strings. It serves as a basic test suite to verify the behavior of the hash function using typical input cases.\n",
    "\n",
    "##### Functionality\n",
    "\n",
    "##### Steps\n",
    "\n",
    "1. **Define Test Inputs:**\n",
    "   - A list of five strings is defined: `[\"hello\", \"world\", \"kernighan\", \"ritchie\", \"hash\"]`.\n",
    "\n",
    "2. **Hash and Output:**\n",
    "   - For each string in the list:\n",
    "     - The function calls `kr_hash(s)` to compute its hash.\n",
    "     - The result is printed in the format:  \n",
    "       `Hash of 'string': hash_value`.\n",
    "\n",
    "3. **Function Execution:**\n",
    "   - `test_kr_hash()` is called immediately after definition to run the test."
   ]
  },
  {
   "cell_type": "code",
   "execution_count": 10,
   "metadata": {},
   "outputs": [
    {
     "name": "stdout",
     "output_type": "stream",
     "text": [
      "Hash of 'hello': 17\n",
      "Hash of 'world': 34\n",
      "Hash of 'kernighan': 37\n",
      "Hash of 'ritchie': 26\n",
      "Hash of 'hash': 15\n"
     ]
    }
   ],
   "source": [
    "def test_kr_hash():\n",
    "    \n",
    "    test_strings = [\"hello\", \"world\", \"kernighan\", \"ritchie\", \"hash\"]  # List of test strings\n",
    "    \n",
    "    for s in test_strings:\n",
    "        print(f\"Hash of '{s}': {kr_hash(s)}\")  # Print hash value of each string\n",
    "\n",
    "test_kr_hash()  # Execute the test function"
   ]
  },
  {
   "cell_type": "markdown",
   "metadata": {},
   "source": [
    "### END OF TASK 2"
   ]
  },
  {
   "cell_type": "markdown",
   "metadata": {},
   "source": [
    "# Task 3: SHA256\n",
    "\n",
    "#### Overview\n",
    "\n",
    "The `calculate_sha256_padding(file_path)` function computes the SHA-256-compliant padding for a given file. SHA-256 requires that messages be padded so that their total length (in bits) is a multiple of 512. This function calculates and prints the exact padding that would be added to a file's binary contents to meet this requirement.\n",
    "\n",
    "#### Parameters\n",
    "\n",
    "- `file_path` (str): The file path to read in binary and calculate SHA-256 padding for.\n",
    "\n",
    "#### Behavior\n",
    "\n",
    "1. **File Reading:**\n",
    "   - The file is opened in binary mode and fully read into memory.\n",
    "   - The length in bytes and the corresponding bit length are calculated.\n",
    "\n",
    "2. **Padding Start:**\n",
    "   - A single `0x80` byte is added, which is the binary `10000000` marker.\n",
    "\n",
    "3. **Zero Padding Calculation:**\n",
    "   - The number of `0x00` bytes is computed so that the total length becomes congruent to 56 modulo 64 (i.e., leaves room for the 8-byte length field).\n",
    "   - These zero bytes are appended to the padding.\n",
    "\n",
    "4. **Appending Length:**\n",
    "   - The original message length (in bits) is converted to a 64-bit big-endian byte representation and appended.\n",
    "\n",
    "5. **Output:**\n",
    "   - The resulting padding is printed in hexadecimal, with each byte represented by two digits and separated by spaces."
   ]
  },
  {
   "cell_type": "code",
   "execution_count": 11,
   "metadata": {},
   "outputs": [],
   "source": [
    "def calculate_sha256_padding(file_path):\n",
    "\n",
    "    # Read the file to get its length in bytes\n",
    "    with open(file_path, \"rb\") as f:\n",
    "        data = f.read()\n",
    "    original_length = len(data)\n",
    "    bit_length = original_length * 8\n",
    "\n",
    "    # Start building the padding\n",
    "    padding = bytearray()\n",
    "    # Append the 0x80 byte (10000000 in binary)\n",
    "    padding.append(0x80)\n",
    "\n",
    "    # Calculate how many zero bytes are needed.\n",
    "    # The total padded message (original data + padding + 8 bytes for length) must be a multiple of 64.\n",
    "    # We already have original_length + 1 bytes, so we need:\n",
    "    #   (original_length + 1 + zero_bytes + 8) % 64 == 0\n",
    "    # Zero_bytes = (56 - (original_length + 1) % 64) % 64.\n",
    "    zero_bytes = (56 - (original_length + 1) % 64) % 64\n",
    "    padding.extend(b'\\x00' * zero_bytes)\n",
    "\n",
    "    # Append the 64-bit big-endian representation of the original message length in bits.\n",
    "    padding.extend(bit_length.to_bytes(8, byteorder='big'))\n",
    "\n",
    "    # Print the padding in hex (each byte as two hex digits)\n",
    "    print(\" \".join(f\"{byte:02x}\" for byte in padding))"
   ]
  },
  {
   "cell_type": "markdown",
   "metadata": {},
   "source": [
    "### TEST CASE\n",
    "\n",
    "#### Overview\n",
    "\n",
    "This test script demonstrates how to use the `calculate_sha256_padding` function on a temporary file containing the ASCII string `\"abc\"`. It creates the file, writes data, computes the padding required by the SHA-256 hashing algorithm, and then deletes the file afterward to clean up.\n",
    "\n",
    "##### Steps\n",
    "\n",
    "1. **File Creation:**\n",
    "   - A file named `test_abc.txt` is created in binary write mode (`wb`).\n",
    "   - The binary data `b\"abc\"` is written to the file.\n",
    "\n",
    "2. **SHA-256 Padding Test:**\n",
    "   - The script prints a message indicating the test is starting.\n",
    "   - The `calculate_sha256_padding` function is called on the file.\n",
    "\n",
    "3. **Cleanup:**\n",
    "   - The temporary file is deleted using `os.remove()`.\n",
    "   - A confirmation message is printed."
   ]
  },
  {
   "cell_type": "code",
   "execution_count": 12,
   "metadata": {},
   "outputs": [
    {
     "name": "stdout",
     "output_type": "stream",
     "text": [
      "Testing SHA256 padding for a file containing 'abc':\n",
      "80 00 00 00 00 00 00 00 00 00 00 00 00 00 00 00 00 00 00 00 00 00 00 00 00 00 00 00 00 00 00 00 00 00 00 00 00 00 00 00 00 00 00 00 00 00 00 00 00 00 00 00 00 00 00 00 00 00 00 00 18\n",
      "Deleted temporary file: test_abc.txt\n"
     ]
    }
   ],
   "source": [
    "import os\n",
    "\n",
    "# Create a temporary file with content \"abc\"\n",
    "test_filename = \"test_abc.txt\"\n",
    "with open(test_filename, \"wb\") as f:\n",
    "    f.write(b\"abc\")\n",
    "\n",
    "print(\"Testing SHA256 padding for a file containing 'abc':\")\n",
    "\n",
    "# Compute and print the SHA256 padding\n",
    "calculate_sha256_padding(test_filename)\n",
    "\n",
    "# Delete the test file after usage\n",
    "os.remove(test_filename)\n",
    "print(f\"Deleted temporary file: {test_filename}\")"
   ]
  },
  {
   "cell_type": "markdown",
   "metadata": {},
   "source": [
    "### END OF TASK 3"
   ]
  },
  {
   "cell_type": "markdown",
   "metadata": {},
   "source": [
    "# Task 4: Prime Numbers"
   ]
  },
  {
   "cell_type": "markdown",
   "metadata": {},
   "source": [
    "### Overview\n",
    "\n",
    "The `is_prime` function determines whether a given integer `n` is a prime number. It uses trial division by testing divisibility from `2` up to the square root of `n`, which optimizes the process by reducing unnecessary checks.\n",
    "\n",
    "#### Parameters\n",
    "\n",
    "- `n` (int): The integer to check for primality.\n",
    "\n",
    "#### Behavior\n",
    "\n",
    "1. **Initial Check:**\n",
    "   - If `n < 2`, it returns `False` since prime numbers start from 2.\n",
    "\n",
    "2. **Trial Division:**\n",
    "   - Iterates from `2` up to `√n` (inclusive).\n",
    "   - If `n` is divisible by any number in this range, it's not prime.\n",
    "\n",
    "3. **Result:**\n",
    "   - If no divisors are found, it returns `True`."
   ]
  },
  {
   "cell_type": "code",
   "execution_count": 13,
   "metadata": {},
   "outputs": [],
   "source": [
    "# Function to check if a number is prime\n",
    "def is_prime(n):\n",
    "    # Prime numbers are greater than 1; if n is less than 2, it's not prime\n",
    "    if n < 2:\n",
    "        return False\n",
    "\n",
    "    # Loop from 2 to the square root of n (inclusive)\n",
    "    for i in range(2, int(n**0.5) + 1):\n",
    "        # If n is divisible by any number in this range, it's not prime\n",
    "        if n % i == 0:\n",
    "            return False\n",
    "\n",
    "        # If no divisors were found, n is prime\n",
    "        return True"
   ]
  },
  {
   "cell_type": "markdown",
   "metadata": {},
   "source": [
    "### Trial Division\n",
    "\n",
    "#### Overview\n",
    "\n",
    "The `primes_trial_division` function generates the first `limit` prime numbers using the trial division method. It sequentially checks each integer for primality using the `is_prime` function until it collects the desired number of prime numbers.\n",
    "\n",
    "##### Parameters\n",
    "\n",
    "- `limit` (int): The number of prime numbers to generate.\n",
    "\n",
    "##### Behavior\n",
    "\n",
    "1. **Initialization:**\n",
    "   - An empty list `primes` is used to store the prime numbers.\n",
    "   - The variable `num` is initialized to 2, the first prime number.\n",
    "\n",
    "2. **Loop Until Limit:**\n",
    "   - While the list contains fewer than `limit` primes:\n",
    "     - Use `is_prime(num)` to check if `num` is a prime number.\n",
    "     - If it is, append it to the list.\n",
    "     - Increment `num` to continue checking the next number.\n",
    "\n",
    "3. **Result:**\n",
    "   - Return the list of the first `limit` prime numbers.\n",
    "\n",
    "##### Return Value\n",
    "\n",
    "- A list of the first `limit` prime numbers."
   ]
  },
  {
   "cell_type": "code",
   "execution_count": 14,
   "metadata": {},
   "outputs": [
    {
     "name": "stdout",
     "output_type": "stream",
     "text": [
      "Trial Division:\n",
      " [5, 7, 9, 11, 13, 15, 17, 19, 21, 23, 25, 27, 29, 31, 33, 35, 37, 39, 41, 43, 45, 47, 49, 51, 53, 55, 57, 59, 61, 63, 65, 67, 69, 71, 73, 75, 77, 79, 81, 83, 85, 87, 89, 91, 93, 95, 97, 99, 101, 103, 105, 107, 109, 111, 113, 115, 117, 119, 121, 123, 125, 127, 129, 131, 133, 135, 137, 139, 141, 143, 145, 147, 149, 151, 153, 155, 157, 159, 161, 163, 165, 167, 169, 171, 173, 175, 177, 179, 181, 183, 185, 187, 189, 191, 193, 195, 197, 199, 201, 203]\n"
     ]
    }
   ],
   "source": [
    "# Function to generate the first 'limit' prime numbers using trial division\n",
    "def primes_trial_division(limit):\n",
    "    primes = []  # List to store prime numbers\n",
    "    num = 2       # Starting number to check for primality (2 is the first prime)\n",
    "\n",
    "    # Loop until we have 'limit' prime numbers\n",
    "    while len(primes) < limit:\n",
    "        # Check if the current number is prime\n",
    "        if is_prime(num):\n",
    "            primes.append(num)  # If prime, add it to the list\n",
    "        num += 1  # Move to the next number\n",
    "\n",
    "    return primes  # Return the list of prime numbers\n",
    "\n",
    "# Call the function and print the first 100 prime numbers\n",
    "print(\"Trial Division:\\n\", primes_trial_division(100))\n"
   ]
  },
  {
   "cell_type": "markdown",
   "metadata": {},
   "source": [
    "### Sieve of Eratosthenes\n",
    "\n",
    "#### Overview\n",
    "\n",
    "The `sieve_of_eratosthenes` function generates the first `n` prime numbers using the efficient Sieve of Eratosthenes algorithm. It marks the multiples of each prime starting from `2` as non-prime and collects the remaining numbers as primes. The function uses a fixed upper limit to ensure enough primes are found.\n",
    "\n",
    "#### Parameters\n",
    "\n",
    "- `n` (int): The number of prime numbers to generate.\n",
    "\n",
    "#### Behavior\n",
    "\n",
    "1. **Initialization:**\n",
    "   - A list `is_prime` of size 600 is created to track whether numbers are prime. All values are initialized to `True`, except for indices 0 and 1, which are marked as `False` since 0 and 1 are not prime.\n",
    "\n",
    "2. **Sieve Process:**\n",
    "   - Starting from `2`, the algorithm marks the multiples of each prime as `False`, effectively eliminating non-prime numbers.\n",
    "   - This continues up to the square root of the upper limit.\n",
    "\n",
    "3. **Extracting Primes:**\n",
    "   - Once the sieve is complete, the indices of `True` values in the `is_prime` list represent prime numbers.\n",
    "   - The first `n` primes are extracted and returned.\n",
    "\n",
    "4. **Result:**\n",
    "   - The first `n` prime numbers are returned as a list.\n",
    "\n",
    "#### Return Value\n",
    "\n",
    "- A list of the first `n` prime numbers.\n"
   ]
  },
  {
   "cell_type": "code",
   "execution_count": 15,
   "metadata": {},
   "outputs": [
    {
     "name": "stdout",
     "output_type": "stream",
     "text": [
      "\n",
      "Sieve of Eratosthenes:\n",
      " [2, 3, 5, 7, 11, 13, 17, 19, 23, 29, 31, 37, 41, 43, 47, 53, 59, 61, 67, 71, 73, 79, 83, 89, 97, 101, 103, 107, 109, 113, 127, 131, 137, 139, 149, 151, 157, 163, 167, 173, 179, 181, 191, 193, 197, 199, 211, 223, 227, 229, 233, 239, 241, 251, 257, 263, 269, 271, 277, 281, 283, 293, 307, 311, 313, 317, 331, 337, 347, 349, 353, 359, 367, 373, 379, 383, 389, 397, 401, 409, 419, 421, 431, 433, 439, 443, 449, 457, 461, 463, 467, 479, 487, 491, 499, 503, 509, 521, 523, 541]\n"
     ]
    }
   ],
   "source": [
    "# Function to generate the first 'n' prime numbers using the Sieve of Eratosthenes algorithm\n",
    "def sieve_of_eratosthenes(n):\n",
    "    size = 600  # Arbitrary upper limit to find enough primes; should be >= the nth prime\n",
    "    is_prime = [True] * size  # Initialize all numbers as potential primes\n",
    "    is_prime[0] = is_prime[1] = False  # 0 and 1 are not prime\n",
    "\n",
    "    # Eliminate non-prime numbers by marking their multiples as False\n",
    "    for i in range(2, int(size**0.5) + 1):  # Only go up to the square root of the size\n",
    "        if is_prime[i]:\n",
    "            # Start marking from i*i, and mark every multiple of i as non-prime\n",
    "            for j in range(i*i, size, i):\n",
    "                is_prime[j] = False\n",
    "\n",
    "    # Extract the indices of True values, which represent prime numbers\n",
    "    primes = [i for i, val in enumerate(is_prime) if val]\n",
    "\n",
    "    # Return only the first 'n' prime numbers\n",
    "    return primes[:n]\n",
    "\n",
    "# Print the first 100 prime numbers using the Sieve of Eratosthenes\n",
    "print(\"\\nSieve of Eratosthenes:\\n\", sieve_of_eratosthenes(100))\n"
   ]
  },
  {
   "cell_type": "markdown",
   "metadata": {},
   "source": [
    "### END TASK 4"
   ]
  },
  {
   "cell_type": "markdown",
   "metadata": {},
   "source": [
    "# Task 5: Roots"
   ]
  },
  {
   "cell_type": "markdown",
   "metadata": {},
   "source": [
    "#### **Overview:**\n",
    "The `get_root_bits` function computes the fractional part of the square roots of a list of prime numbers, then scales the fractional part into a 32-bit integer representation. This could be useful in contexts like random number generation, cryptographic algorithms, or any application that needs a consistent yet pseudo-random transformation of prime numbers.\n",
    "\n",
    "#### **Functionality:**\n",
    "\n",
    "1. **Input:**  \n",
    "   - The function takes a list of prime numbers (`primes`).\n",
    "\n",
    "2. **Square Root Calculation:**\n",
    "   - For each prime number in the list, the function calculates its square root using `math.sqrt(p)`.\n",
    "\n",
    "3. **Extracting Fractional Part:**\n",
    "   - The fractional part of the square root is extracted by taking `root % 1`. This operation removes the integer part of the square root, leaving only the decimal portion.\n",
    "\n",
    "4. **Scaling to 32-Bit Integer:**\n",
    "   - The fractional part is scaled to fit within a 32-bit integer range by multiplying it by `2^32` (the maximum value a 32-bit unsigned integer can represent) and converting the result to an integer.\n",
    "\n",
    "5. **Storing Results:**\n",
    "   - The 32-bit integer corresponding to each prime’s square root fractional part is appended to the `results` list.\n",
    "\n",
    "6. **Output:**  \n",
    "   - The function returns the list of 32-bit integers derived from the square roots of the input prime numbers."
   ]
  },
  {
   "cell_type": "code",
   "execution_count": 16,
   "metadata": {},
   "outputs": [],
   "source": [
    "import math  # Make sure to import math for square root function\n",
    "\n",
    "# Function to calculate the fractional bits from the square roots of prime numbers\n",
    "def get_root_bits(primes):\n",
    "    results = []  # List to store the resulting integer bits\n",
    "\n",
    "    for p in primes:\n",
    "        root = math.sqrt(p)       # Calculate the square root of the prime number\n",
    "        frac = root % 1           # Get the fractional part (e.g., for 5.385, this is 0.385)\n",
    "        bits = int(frac * (2**32))  # Scale the fraction to a 32-bit integer range\n",
    "        results.append(bits)      # Append the result to the list\n",
    "\n",
    "    return results  # Return the list of 32-bit values derived from square roots\n"
   ]
  },
  {
   "cell_type": "markdown",
   "metadata": {},
   "source": [
    "#### **Overview:**\n",
    "This code generates the first 100 prime numbers using trial division, computes the 32-bit fractional bits from the square roots of those primes, and prints each prime alongside its corresponding 32-bit fractional value in hexadecimal format. The output provides an interesting transformation of prime numbers and their square roots, which could be useful in various computational or cryptographic tasks.\n",
    "\n",
    "#### **Functionality:**\n",
    "\n",
    "1. **Generate First 100 Primes:**\n",
    "   - The function `primes_trial_division(100)` is assumed to generate the first 100 prime numbers using the trial division method (i.e., checking divisibility of numbers by all integers up to their square root).\n",
    "\n",
    "2. **Compute 32-Bit Fractional Bits:**\n",
    "   - The `get_root_bits(primes)` function is called with the list of primes. This function calculates the fractional parts of their square roots and converts them into 32-bit integers.\n",
    "\n",
    "3. **Output in Hexadecimal:**\n",
    "   - The code iterates through the list of 32-bit fractional bits (`root_bits`), printing each prime and its corresponding 32-bit fractional value in hexadecimal format.\n",
    "   - The formatting `#010x` ensures that the result is printed as a zero-padded, 8-digit hexadecimal value with a `0x` prefix (e.g., `0x1a2b3c4d`).\n",
    "\n",
    "4. **Result:**\n",
    "   - The output is a sequence of lines, each showing a prime number followed by its corresponding 32-bit fractional part in hexadecimal."
   ]
  },
  {
   "cell_type": "code",
   "execution_count": 17,
   "metadata": {},
   "outputs": [
    {
     "name": "stdout",
     "output_type": "stream",
     "text": [
      "Prime: 5 → 32-bit frac: 0x3c6ef372\n",
      "Prime: 7 → 32-bit frac: 0xa54ff53a\n",
      "Prime: 9 → 32-bit frac: 0x00000000\n",
      "Prime: 11 → 32-bit frac: 0x510e527f\n",
      "Prime: 13 → 32-bit frac: 0x9b05688c\n",
      "Prime: 15 → 32-bit frac: 0xdf7bd629\n",
      "Prime: 17 → 32-bit frac: 0x1f83d9ab\n",
      "Prime: 19 → 32-bit frac: 0x5be0cd19\n",
      "Prime: 21 → 32-bit frac: 0x9523ae45\n",
      "Prime: 23 → 32-bit frac: 0xcbbb9d5d\n",
      "Prime: 25 → 32-bit frac: 0x00000000\n",
      "Prime: 27 → 32-bit frac: 0x32370b90\n",
      "Prime: 29 → 32-bit frac: 0x629a292a\n",
      "Prime: 31 → 32-bit frac: 0x9159015a\n",
      "Prime: 33 → 32-bit frac: 0xbe9ba858\n",
      "Prime: 35 → 32-bit frac: 0xea843464\n",
      "Prime: 37 → 32-bit frac: 0x152fecd8\n",
      "Prime: 39 → 32-bit frac: 0x3eb83056\n",
      "Prime: 41 → 32-bit frac: 0x67332667\n",
      "Prime: 43 → 32-bit frac: 0x8eb44a87\n",
      "Prime: 45 → 32-bit frac: 0xb54cda58\n",
      "Prime: 47 → 32-bit frac: 0xdb0c2e0d\n",
      "Prime: 49 → 32-bit frac: 0x00000000\n",
      "Prime: 51 → 32-bit frac: 0x2434a74b\n",
      "Prime: 53 → 32-bit frac: 0x47b5481d\n",
      "Prime: 55 → 32-bit frac: 0x6a8bfbea\n",
      "Prime: 57 → 32-bit frac: 0x8cc1f315\n",
      "Prime: 59 → 32-bit frac: 0xae5f9156\n",
      "Prime: 61 → 32-bit frac: 0xcf6c85d3\n",
      "Prime: 63 → 32-bit frac: 0xefefdfaf\n",
      "Prime: 65 → 32-bit frac: 0x0ff01fb0\n",
      "Prime: 67 → 32-bit frac: 0x2f73477d\n",
      "Prime: 69 → 32-bit frac: 0x4e7ee6c7\n",
      "Prime: 71 → 32-bit frac: 0x6d1826ca\n",
      "Prime: 73 → 32-bit frac: 0x8b43d457\n",
      "Prime: 75 → 32-bit frac: 0xa906689b\n",
      "Prime: 77 → 32-bit frac: 0xc66410eb\n",
      "Prime: 79 → 32-bit frac: 0xe360b596\n",
      "Prime: 81 → 32-bit frac: 0x00000000\n",
      "Prime: 83 → 32-bit frac: 0x1c456002\n",
      "Prime: 85 → 32-bit frac: 0x383410c8\n",
      "Prime: 87 → 32-bit frac: 0x53cf1d16\n",
      "Prime: 89 → 32-bit frac: 0x6f196331\n",
      "Prime: 91 → 32-bit frac: 0x8a159854\n",
      "Prime: 93 → 32-bit frac: 0xa4c64bd8\n",
      "Prime: 95 → 32-bit frac: 0xbf2dea07\n",
      "Prime: 97 → 32-bit frac: 0xd94ebeb1\n",
      "Prime: 99 → 32-bit frac: 0xf32af77f\n",
      "Prime: 101 → 32-bit frac: 0x0cc4a611\n",
      "Prime: 103 → 32-bit frac: 0x261dc1f2\n",
      "Prime: 105 → 32-bit frac: 0x3f382a57\n",
      "Prime: 107 → 32-bit frac: 0x5815a7be\n",
      "Prime: 109 → 32-bit frac: 0x70b7ed67\n",
      "Prime: 111 → 32-bit frac: 0x89209ab6\n",
      "Prime: 113 → 32-bit frac: 0xa1513c69\n",
      "Prime: 115 → 32-bit frac: 0xb94b4dc5\n",
      "Prime: 117 → 32-bit frac: 0xd11039a4\n",
      "Prime: 119 → 32-bit frac: 0xe8a15b6d\n",
      "Prime: 121 → 32-bit frac: 0x00000000\n",
      "Prime: 123 → 32-bit frac: 0x172d6686\n",
      "Prime: 125 → 32-bit frac: 0x2e2ac13e\n",
      "Prime: 127 → 32-bit frac: 0x44f93635\n",
      "Prime: 129 → 32-bit frac: 0x5b99dfec\n",
      "Prime: 131 → 32-bit frac: 0x720dcdfd\n",
      "Prime: 133 → 32-bit frac: 0x885605af\n",
      "Prime: 135 → 32-bit frac: 0x9e73827d\n",
      "Prime: 137 → 32-bit frac: 0xb467369e\n",
      "Prime: 139 → 32-bit frac: 0xca320b75\n",
      "Prime: 141 → 32-bit frac: 0xdfd4e20d\n",
      "Prime: 143 → 32-bit frac: 0xf5509378\n",
      "Prime: 145 → 32-bit frac: 0x0aa5f13b\n",
      "Prime: 147 → 32-bit frac: 0x1fd5c5a6\n",
      "Prime: 149 → 32-bit frac: 0x34e0d42e\n",
      "Prime: 151 → 32-bit frac: 0x49c7d9bd\n",
      "Prime: 153 → 32-bit frac: 0x5e8b8d03\n",
      "Prime: 155 → 32-bit frac: 0x732c9ebb\n",
      "Prime: 157 → 32-bit frac: 0x87abb9f2\n",
      "Prime: 159 → 32-bit frac: 0x9c098444\n",
      "Prime: 161 → 32-bit frac: 0xb0469e20\n",
      "Prime: 163 → 32-bit frac: 0xc463a2fc\n",
      "Prime: 165 → 32-bit frac: 0xd861298a\n",
      "Prime: 167 → 32-bit frac: 0xec3fc3f3\n",
      "Prime: 169 → 32-bit frac: 0x00000000\n",
      "Prime: 171 → 32-bit frac: 0x13a2674b\n",
      "Prime: 173 → 32-bit frac: 0x27277f6d\n",
      "Prime: 175 → 32-bit frac: 0x3a8fca23\n",
      "Prime: 177 → 32-bit frac: 0x4ddbc57b\n",
      "Prime: 179 → 32-bit frac: 0x610bebf2\n",
      "Prime: 181 → 32-bit frac: 0x7420b49e\n",
      "Prime: 183 → 32-bit frac: 0x871a934d\n",
      "Prime: 185 → 32-bit frac: 0x99f9f8a4\n",
      "Prime: 187 → 32-bit frac: 0xacbf523f\n",
      "Prime: 189 → 32-bit frac: 0xbf6b0acf\n",
      "Prime: 191 → 32-bit frac: 0xd1fd8a33\n",
      "Prime: 193 → 32-bit frac: 0xe4773594\n",
      "Prime: 195 → 32-bit frac: 0xf6d86f7d\n",
      "Prime: 197 → 32-bit frac: 0x092197f6\n",
      "Prime: 199 → 32-bit frac: 0x1b530c95\n",
      "Prime: 201 → 32-bit frac: 0x2d6d289d\n",
      "Prime: 203 → 32-bit frac: 0x3f704507\n"
     ]
    }
   ],
   "source": [
    "# Generate the first 100 prime numbers using trial division\n",
    "primes = primes_trial_division(100)\n",
    "\n",
    "# Compute the 32-bit fractional bits of the square roots of those primes\n",
    "root_bits = get_root_bits(primes)\n",
    "\n",
    "# Print each prime and its corresponding 32-bit fractional value in hexadecimal format\n",
    "for i, bits in enumerate(root_bits):\n",
    "    # Print prime number and its corresponding 32-bit hex representation\n",
    "    # `#010x` formats the integer as 0x-prefixed, zero-padded 8-digit hex (e.g., 0x1a2b3c4d)\n",
    "    print(f\"Prime: {primes[i]} → 32-bit frac: {bits:#010x}\")"
   ]
  },
  {
   "cell_type": "markdown",
   "metadata": {},
   "source": [
    "### END TASK 5"
   ]
  },
  {
   "cell_type": "markdown",
   "metadata": {},
   "source": [
    "# Task 6: Proof of Work"
   ]
  },
  {
   "cell_type": "markdown",
   "metadata": {},
   "source": [
    "#### **Overview:**\n",
    "The `leading_zeros` function takes a string as input, computes its SHA-256 hash, converts it into binary, and counts how many leading zeros are present in the binary representation of the hash. This can be used in scenarios like mining in cryptocurrencies, where the number of leading zeros often determines the difficulty of the task.\n",
    "\n",
    "#### **Functionality:**\n",
    "- **Input:** A string `word` that will be hashed using the SHA-256 algorithm.\n",
    "- **SHA-256 Hashing:** The function first encodes the input string and computes its SHA-256 hash using the `hashlib` library.\n",
    "- **Hexadecimal to Binary Conversion:** The resulting hash (in hexadecimal format) is converted to a binary string. The binary string is padded to ensure it is 256 bits long (the length of a SHA-256 hash).\n",
    "- **Leading Zero Counting:** The function counts the number of leading zeros in the binary string by stripping leading zeros and comparing the lengths before and after the strip.\n",
    "- **Output:** The function returns the number of leading zeros in the binary representation of the hash."
   ]
  },
  {
   "cell_type": "code",
   "execution_count": 18,
   "metadata": {},
   "outputs": [],
   "source": [
    "import hashlib  # Required for SHA-256 hashing\n",
    "\n",
    "# Function to count the number of leading zeros in the binary form of a SHA-256 hash\n",
    "def leading_zeros(word):\n",
    "    # Compute the SHA-256 hash of the input word, then convert it to a hexadecimal string\n",
    "    hash_hex = hashlib.sha256(word.encode()).hexdigest()\n",
    "\n",
    "    # Convert the hexadecimal hash to a binary string (removing '0b' prefix and padding to 256 bits)\n",
    "    hash_bin = bin(int(hash_hex, 16))[2:].zfill(256)\n",
    "\n",
    "    # Count the number of leading '0's in the binary string\n",
    "    return len(hash_bin) - len(hash_bin.lstrip('0'))"
   ]
  },
  {
   "cell_type": "markdown",
   "metadata": {},
   "source": [
    "#### **Overview:**\n",
    "The code reads a file named `words.txt`, processes each line to extract words that contain only alphabetic characters, and then identifies the word with the most leading zeros in its corresponding SHA-256 hash. This could be useful for various applications, such as selecting the \"best\" word in terms of difficulty or computational challenges (e.g., hashing challenges or cryptographic applications).\n",
    "\n",
    "#### **Functionality:**\n",
    "\n",
    "1. **File Reading:**\n",
    "   - The code opens the file `words.txt` and reads its contents line by line.\n",
    "   - It strips any surrounding whitespace from each line and only includes the word if it consists of alphabetic characters (no digits or symbols).\n",
    "   - The valid words are stored in the list `word_list`.\n",
    "\n",
    "2. **Tracking the Word with Most Leading Zeros:**\n",
    "   - Two variables are initialized: `best_word` (to track the word with the most leading zeros) and `max_zeros` (to store the maximum number of leading zeros encountered).\n",
    "   \n",
    "3. **Iterating through the Word List:**\n",
    "   - For each word in `word_list`, the function `leading_zeros(word)` is called to count the number of leading zeros in the SHA-256 hash of the word.\n",
    "   - If the current word has more leading zeros than the previously found maximum, the word is updated as the new `best_word`, and `max_zeros` is updated accordingly.\n",
    "\n",
    "4. **Output:**  \n",
    "   - The final output will be the word (`best_word`) with the most leading zeros in its SHA-256 hash."
   ]
  },
  {
   "cell_type": "code",
   "execution_count": 19,
   "metadata": {},
   "outputs": [],
   "source": [
    "# Open the file \"words.txt\" and read its contents\n",
    "# For each line, strip whitespace\n",
    "# Include the word only if it contains alphabetic characters (no digits/symbols)\n",
    "with open(\"words.txt\") as f:\n",
    "    word_list = [line.strip() for line in f if line.strip().isalpha()]\n",
    "    \n",
    "# Initialize variables to track the word with the most leading zeros\n",
    "best_word = \"\"\n",
    "max_zeros = 0\n",
    "\n",
    "# Iterate through each word in the list\n",
    "for word in word_list:\n",
    "    # Call the leading_zeros function (assumed to be defined elsewhere)\n",
    "    # to count the number of leading zeros in the word\n",
    "    zeros = leading_zeros(word)\n",
    "    \n",
    "    # If the current word has more leading zeros than the previous max, update the best word\n",
    "    if zeros > max_zeros:\n",
    "        best_word = word\n",
    "        max_zeros = zeros\n"
   ]
  },
  {
   "cell_type": "markdown",
   "metadata": {},
   "source": [
    "### Prints the word with max zero bits"
   ]
  },
  {
   "cell_type": "code",
   "execution_count": 20,
   "metadata": {},
   "outputs": [
    {
     "name": "stdout",
     "output_type": "stream",
     "text": [
      "Word: 'APPLICANT' with 16 leading zero bits.\n"
     ]
    }
   ],
   "source": [
    "# Output the word with the highest number of leading zero bits in its SHA-256 hash\n",
    "print(f\"Word: '{best_word}' with {max_zeros} leading zero bits.\")"
   ]
  },
  {
   "cell_type": "markdown",
   "metadata": {},
   "source": [
    "### END TASK 6"
   ]
  },
  {
   "cell_type": "markdown",
   "metadata": {},
   "source": [
    "# Task 7: Turing Machines"
   ]
  },
  {
   "cell_type": "markdown",
   "metadata": {},
   "source": [
    "#### **Overview:**\n",
    "The `turing_add_one` function simulates adding 1 to a binary number represented as a string. It processes each bit of the number from right to left, handling carries as needed, similar to how a Turing machine would increment a binary tape.\n",
    "\n",
    "#### **Functionality:**\n",
    "- **Input:** A binary string (e.g., `\"100111\"`).\n",
    "- **Conversion:** The binary string is converted into a list of characters (`tape_list`) for easier modification.\n",
    "- **Incrementation:** Starting from the rightmost bit:\n",
    "  - If the current bit is `1`, it becomes `0` and the carry continues.\n",
    "  - If the current bit is `0`, it becomes `1` and the carry is consumed.\n",
    "- **Carry Propagation:** If there is still a carry left after the loop (for example, if the number is `111`), a `1` is inserted at the beginning of the list.\n",
    "- **Output:** The modified list is converted back into a string and returned, representing the binary number after adding 1.\n"
   ]
  },
  {
   "cell_type": "code",
   "execution_count": 21,
   "metadata": {},
   "outputs": [],
   "source": [
    "def turing_add_one(tape: str) -> str:\n",
    "    # Convert the input binary string (tape) to a list so we can modify it in-place\n",
    "    tape_list = list(tape)\n",
    "    \n",
    "    # Start from the rightmost bit (least significant bit)\n",
    "    i = len(tape_list) - 1\n",
    "\n",
    "    # Initialize carry to 1 because we want to add 1 to the binary number\n",
    "    carry = 1\n",
    "\n",
    "    # Loop backwards through the tape while there's still a carry to process\n",
    "    while i >= 0 and carry:\n",
    "        if tape_list[i] == '1':\n",
    "            # If the current bit is '1', adding 1 results in '0' with a carry\n",
    "            tape_list[i] = '0'\n",
    "            carry = 1  # Carry remains\n",
    "        else:  # tape_list[i] == '0'\n",
    "            # If the current bit is '0', adding 1 results in '1' with no carry\n",
    "            tape_list[i] = '1'\n",
    "            carry = 0  # Carry is consumed\n",
    "        i -= 1  # Move one bit to the left\n",
    "\n",
    "    # If we still have a carry after the loop, insert '1' at the beginning\n",
    "    # This handles cases like adding 1 to '111' => '1000'\n",
    "    if carry:\n",
    "        tape_list.insert(0, '1')\n",
    "\n",
    "    # Convert the list of bits back to a string and return it\n",
    "    return ''.join(tape_list)\n"
   ]
  },
  {
   "cell_type": "markdown",
   "metadata": {},
   "source": [
    "#### **Overview:**\n",
    "The test case validates the functionality of the `turing_add_one` function by providing an example input and comparing the actual output to the expected output. It ensures that the function behaves as expected.\n",
    "\n",
    "#### **Functionality:**\n",
    "- **Test Input:** `\"100111\"` (binary representation of `39`).\n",
    "- **Expected Output:** `\"101000\"` (binary representation of `40`).\n",
    "- **Execution:**\n",
    "  - The function `turing_add_one` is called with the input tape (`\"100111\"`).\n",
    "  - The input tape, expected output, and actual output are printed for review.\n",
    "  - An `assert` statement checks if the actual output matches the expected output.\n",
    "  - If the assertion passes, `\"Test passed!\"` is printed. If it fails, an error message is raised indicating the failure.\n"
   ]
  },
  {
   "cell_type": "code",
   "execution_count": 22,
   "metadata": {},
   "outputs": [
    {
     "name": "stdout",
     "output_type": "stream",
     "text": [
      "Input Tape:       100111\n",
      "Expected Output:  101000\n",
      "Actual Output:    101000\n",
      "Passed\n"
     ]
    }
   ],
   "source": [
    "# Test case: Given the input tape \"100111\", the expected output is \"101000\"\n",
    "input_tape = \"100111\"\n",
    "expected_output = \"101000\"\n",
    "\n",
    "# Call the function\n",
    "output_tape = turing_add_one(input_tape)\n",
    "\n",
    "# Print results\n",
    "print(\"Input Tape:      \", input_tape)\n",
    "print(\"Expected Output: \", expected_output)\n",
    "print(\"Actual Output:   \", output_tape)\n",
    "\n",
    "# Assertion for validation\n",
    "assert output_tape == expected_output, \"Failed\"\n",
    "print(\"Passed\")"
   ]
  },
  {
   "cell_type": "markdown",
   "metadata": {},
   "source": [
    "### END TASK 7"
   ]
  },
  {
   "cell_type": "markdown",
   "metadata": {},
   "source": [
    "# Task 8: Computational Complexity"
   ]
  }
 ],
 "metadata": {
  "kernelspec": {
   "display_name": "base",
   "language": "python",
   "name": "python3"
  },
  "language_info": {
   "codemirror_mode": {
    "name": "ipython",
    "version": 3
   },
   "file_extension": ".py",
   "mimetype": "text/x-python",
   "name": "python",
   "nbconvert_exporter": "python",
   "pygments_lexer": "ipython3",
   "version": "3.12.7"
  }
 },
 "nbformat": 4,
 "nbformat_minor": 2
}
